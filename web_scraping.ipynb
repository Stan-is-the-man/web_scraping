{
 "cells": [
  {
   "cell_type": "markdown",
   "source": [
    "# Gathering information for football statistics in different leagues"
   ],
   "metadata": {
    "collapsed": false
   }
  },
  {
   "cell_type": "markdown",
   "source": [
    "# 1. Read a .csv file from url with Pandas\n"
   ],
   "metadata": {
    "collapsed": false
   }
  },
  {
   "cell_type": "markdown",
   "source": [
    "### Destination website: https://www.football-data.co.uk/englandm.php"
   ],
   "metadata": {
    "collapsed": false
   }
  },
  {
   "cell_type": "code",
   "execution_count": 37,
   "outputs": [],
   "source": [
    "import pandas as pd"
   ],
   "metadata": {
    "collapsed": false
   }
  },
  {
   "cell_type": "code",
   "execution_count": 38,
   "outputs": [
    {
     "data": {
      "text/plain": "    Div        Date   Time        HomeTeam       AwayTeam  FTHG  FTAG FTR   \n0    E0  05/08/2022  20:00  Crystal Palace        Arsenal     0     2   A  \\\n1    E0  06/08/2022  12:30          Fulham      Liverpool     2     2   D   \n2    E0  06/08/2022  15:00     Bournemouth    Aston Villa     2     0   H   \n3    E0  06/08/2022  15:00           Leeds         Wolves     2     1   H   \n4    E0  06/08/2022  15:00       Newcastle  Nott'm Forest     2     0   H   \n..   ..         ...    ...             ...            ...   ...   ...  ..   \n301  E0  15/04/2023  15:00          Wolves      Brentford     2     0   H   \n302  E0  15/04/2023  17:30        Man City      Leicester     3     1   H   \n303  E0  16/04/2023  14:00        West Ham        Arsenal     2     2   D   \n304  E0  16/04/2023  16:30   Nott'm Forest     Man United     0     2   A   \n305  E0  17/04/2023  20:00           Leeds      Liverpool     1     6   A   \n\n     HTHG  HTAG  ... AvgC<2.5  AHCh  B365CAHH  B365CAHA  PCAHH  PCAHA   \n0       0     1  ...     1.76  0.50      2.09      1.84   2.04   1.88  \\\n1       1     0  ...     2.73  1.75      1.90      2.03   1.91   2.02   \n2       1     0  ...     1.76  0.50      1.93      2.00   1.93   2.00   \n3       1     1  ...     1.87 -0.25      2.08      1.85   2.10   1.84   \n4       0     0  ...     1.89 -1.00      1.97      1.96   1.99   1.93   \n..    ...   ...  ...      ...   ...       ...       ...    ...    ...   \n301     1     0  ...     1.66  0.00      2.00      1.90   2.02   1.91   \n302     3     0  ...     3.19 -2.25      1.92      1.98   1.94   1.96   \n303     1     2  ...     2.12  1.00      1.89      2.04   1.88   2.05   \n304     0     1  ...     2.12  0.75      2.02      1.91   2.02   1.91   \n305     0     2  ...     2.61  0.75      2.01      1.89   2.01   1.92   \n\n     MaxCAHH  MaxCAHA  AvgCAHH  AvgCAHA  \n0       2.09     1.88     2.03     1.85  \n1       2.01     2.06     1.89     1.99  \n2       1.94     2.04     1.88     2.00  \n3       2.14     1.87     2.08     1.81  \n4       2.19     1.97     2.03     1.86  \n..       ...      ...      ...      ...  \n301     2.04     1.95     1.97     1.89  \n302     1.95     2.08     1.86     2.00  \n303     1.97     2.11     1.85     2.03  \n304     2.09     1.92     1.99     1.88  \n305     2.12     1.94     2.00     1.86  \n\n[306 rows x 106 columns]",
      "text/html": "<div>\n<style scoped>\n    .dataframe tbody tr th:only-of-type {\n        vertical-align: middle;\n    }\n\n    .dataframe tbody tr th {\n        vertical-align: top;\n    }\n\n    .dataframe thead th {\n        text-align: right;\n    }\n</style>\n<table border=\"1\" class=\"dataframe\">\n  <thead>\n    <tr style=\"text-align: right;\">\n      <th></th>\n      <th>Div</th>\n      <th>Date</th>\n      <th>Time</th>\n      <th>HomeTeam</th>\n      <th>AwayTeam</th>\n      <th>FTHG</th>\n      <th>FTAG</th>\n      <th>FTR</th>\n      <th>HTHG</th>\n      <th>HTAG</th>\n      <th>...</th>\n      <th>AvgC&lt;2.5</th>\n      <th>AHCh</th>\n      <th>B365CAHH</th>\n      <th>B365CAHA</th>\n      <th>PCAHH</th>\n      <th>PCAHA</th>\n      <th>MaxCAHH</th>\n      <th>MaxCAHA</th>\n      <th>AvgCAHH</th>\n      <th>AvgCAHA</th>\n    </tr>\n  </thead>\n  <tbody>\n    <tr>\n      <th>0</th>\n      <td>E0</td>\n      <td>05/08/2022</td>\n      <td>20:00</td>\n      <td>Crystal Palace</td>\n      <td>Arsenal</td>\n      <td>0</td>\n      <td>2</td>\n      <td>A</td>\n      <td>0</td>\n      <td>1</td>\n      <td>...</td>\n      <td>1.76</td>\n      <td>0.50</td>\n      <td>2.09</td>\n      <td>1.84</td>\n      <td>2.04</td>\n      <td>1.88</td>\n      <td>2.09</td>\n      <td>1.88</td>\n      <td>2.03</td>\n      <td>1.85</td>\n    </tr>\n    <tr>\n      <th>1</th>\n      <td>E0</td>\n      <td>06/08/2022</td>\n      <td>12:30</td>\n      <td>Fulham</td>\n      <td>Liverpool</td>\n      <td>2</td>\n      <td>2</td>\n      <td>D</td>\n      <td>1</td>\n      <td>0</td>\n      <td>...</td>\n      <td>2.73</td>\n      <td>1.75</td>\n      <td>1.90</td>\n      <td>2.03</td>\n      <td>1.91</td>\n      <td>2.02</td>\n      <td>2.01</td>\n      <td>2.06</td>\n      <td>1.89</td>\n      <td>1.99</td>\n    </tr>\n    <tr>\n      <th>2</th>\n      <td>E0</td>\n      <td>06/08/2022</td>\n      <td>15:00</td>\n      <td>Bournemouth</td>\n      <td>Aston Villa</td>\n      <td>2</td>\n      <td>0</td>\n      <td>H</td>\n      <td>1</td>\n      <td>0</td>\n      <td>...</td>\n      <td>1.76</td>\n      <td>0.50</td>\n      <td>1.93</td>\n      <td>2.00</td>\n      <td>1.93</td>\n      <td>2.00</td>\n      <td>1.94</td>\n      <td>2.04</td>\n      <td>1.88</td>\n      <td>2.00</td>\n    </tr>\n    <tr>\n      <th>3</th>\n      <td>E0</td>\n      <td>06/08/2022</td>\n      <td>15:00</td>\n      <td>Leeds</td>\n      <td>Wolves</td>\n      <td>2</td>\n      <td>1</td>\n      <td>H</td>\n      <td>1</td>\n      <td>1</td>\n      <td>...</td>\n      <td>1.87</td>\n      <td>-0.25</td>\n      <td>2.08</td>\n      <td>1.85</td>\n      <td>2.10</td>\n      <td>1.84</td>\n      <td>2.14</td>\n      <td>1.87</td>\n      <td>2.08</td>\n      <td>1.81</td>\n    </tr>\n    <tr>\n      <th>4</th>\n      <td>E0</td>\n      <td>06/08/2022</td>\n      <td>15:00</td>\n      <td>Newcastle</td>\n      <td>Nott'm Forest</td>\n      <td>2</td>\n      <td>0</td>\n      <td>H</td>\n      <td>0</td>\n      <td>0</td>\n      <td>...</td>\n      <td>1.89</td>\n      <td>-1.00</td>\n      <td>1.97</td>\n      <td>1.96</td>\n      <td>1.99</td>\n      <td>1.93</td>\n      <td>2.19</td>\n      <td>1.97</td>\n      <td>2.03</td>\n      <td>1.86</td>\n    </tr>\n    <tr>\n      <th>...</th>\n      <td>...</td>\n      <td>...</td>\n      <td>...</td>\n      <td>...</td>\n      <td>...</td>\n      <td>...</td>\n      <td>...</td>\n      <td>...</td>\n      <td>...</td>\n      <td>...</td>\n      <td>...</td>\n      <td>...</td>\n      <td>...</td>\n      <td>...</td>\n      <td>...</td>\n      <td>...</td>\n      <td>...</td>\n      <td>...</td>\n      <td>...</td>\n      <td>...</td>\n      <td>...</td>\n    </tr>\n    <tr>\n      <th>301</th>\n      <td>E0</td>\n      <td>15/04/2023</td>\n      <td>15:00</td>\n      <td>Wolves</td>\n      <td>Brentford</td>\n      <td>2</td>\n      <td>0</td>\n      <td>H</td>\n      <td>1</td>\n      <td>0</td>\n      <td>...</td>\n      <td>1.66</td>\n      <td>0.00</td>\n      <td>2.00</td>\n      <td>1.90</td>\n      <td>2.02</td>\n      <td>1.91</td>\n      <td>2.04</td>\n      <td>1.95</td>\n      <td>1.97</td>\n      <td>1.89</td>\n    </tr>\n    <tr>\n      <th>302</th>\n      <td>E0</td>\n      <td>15/04/2023</td>\n      <td>17:30</td>\n      <td>Man City</td>\n      <td>Leicester</td>\n      <td>3</td>\n      <td>1</td>\n      <td>H</td>\n      <td>3</td>\n      <td>0</td>\n      <td>...</td>\n      <td>3.19</td>\n      <td>-2.25</td>\n      <td>1.92</td>\n      <td>1.98</td>\n      <td>1.94</td>\n      <td>1.96</td>\n      <td>1.95</td>\n      <td>2.08</td>\n      <td>1.86</td>\n      <td>2.00</td>\n    </tr>\n    <tr>\n      <th>303</th>\n      <td>E0</td>\n      <td>16/04/2023</td>\n      <td>14:00</td>\n      <td>West Ham</td>\n      <td>Arsenal</td>\n      <td>2</td>\n      <td>2</td>\n      <td>D</td>\n      <td>1</td>\n      <td>2</td>\n      <td>...</td>\n      <td>2.12</td>\n      <td>1.00</td>\n      <td>1.89</td>\n      <td>2.04</td>\n      <td>1.88</td>\n      <td>2.05</td>\n      <td>1.97</td>\n      <td>2.11</td>\n      <td>1.85</td>\n      <td>2.03</td>\n    </tr>\n    <tr>\n      <th>304</th>\n      <td>E0</td>\n      <td>16/04/2023</td>\n      <td>16:30</td>\n      <td>Nott'm Forest</td>\n      <td>Man United</td>\n      <td>0</td>\n      <td>2</td>\n      <td>A</td>\n      <td>0</td>\n      <td>1</td>\n      <td>...</td>\n      <td>2.12</td>\n      <td>0.75</td>\n      <td>2.02</td>\n      <td>1.91</td>\n      <td>2.02</td>\n      <td>1.91</td>\n      <td>2.09</td>\n      <td>1.92</td>\n      <td>1.99</td>\n      <td>1.88</td>\n    </tr>\n    <tr>\n      <th>305</th>\n      <td>E0</td>\n      <td>17/04/2023</td>\n      <td>20:00</td>\n      <td>Leeds</td>\n      <td>Liverpool</td>\n      <td>1</td>\n      <td>6</td>\n      <td>A</td>\n      <td>0</td>\n      <td>2</td>\n      <td>...</td>\n      <td>2.61</td>\n      <td>0.75</td>\n      <td>2.01</td>\n      <td>1.89</td>\n      <td>2.01</td>\n      <td>1.92</td>\n      <td>2.12</td>\n      <td>1.94</td>\n      <td>2.00</td>\n      <td>1.86</td>\n    </tr>\n  </tbody>\n</table>\n<p>306 rows × 106 columns</p>\n</div>"
     },
     "execution_count": 38,
     "metadata": {},
     "output_type": "execute_result"
    }
   ],
   "source": [
    "# Reading the data from a single csv file at the website - just Season 2022/2023 Premier League:\n",
    "df_premier_league_season_2022_2023 = pd.read_csv('https://www.football-data.co.uk/mmz4281/2223/E0.csv')\n",
    "df_premier_league_season_2022_2023"
   ],
   "metadata": {
    "collapsed": false
   }
  },
  {
   "cell_type": "code",
   "execution_count": 39,
   "outputs": [
    {
     "data": {
      "text/plain": "    Div        Date   Time       HomeTeam    AwayTeam  Home Goals  Away Goals   \n301  E0  15/04/2023  15:00         Wolves   Brentford           2           0  \\\n302  E0  15/04/2023  17:30       Man City   Leicester           3           1   \n303  E0  16/04/2023  14:00       West Ham     Arsenal           2           2   \n304  E0  16/04/2023  16:30  Nott'm Forest  Man United           0           2   \n305  E0  17/04/2023  20:00          Leeds   Liverpool           1           6   \n\n    FTR  HTHG  HTAG  ... AvgC<2.5  AHCh  B365CAHH  B365CAHA  PCAHH  PCAHA   \n301   H     1     0  ...     1.66  0.00      2.00      1.90   2.02   1.91  \\\n302   H     3     0  ...     3.19 -2.25      1.92      1.98   1.94   1.96   \n303   D     1     2  ...     2.12  1.00      1.89      2.04   1.88   2.05   \n304   A     0     1  ...     2.12  0.75      2.02      1.91   2.02   1.91   \n305   A     0     2  ...     2.61  0.75      2.01      1.89   2.01   1.92   \n\n     MaxCAHH  MaxCAHA  AvgCAHH  AvgCAHA  \n301     2.04     1.95     1.97     1.89  \n302     1.95     2.08     1.86     2.00  \n303     1.97     2.11     1.85     2.03  \n304     2.09     1.92     1.99     1.88  \n305     2.12     1.94     2.00     1.86  \n\n[5 rows x 106 columns]",
      "text/html": "<div>\n<style scoped>\n    .dataframe tbody tr th:only-of-type {\n        vertical-align: middle;\n    }\n\n    .dataframe tbody tr th {\n        vertical-align: top;\n    }\n\n    .dataframe thead th {\n        text-align: right;\n    }\n</style>\n<table border=\"1\" class=\"dataframe\">\n  <thead>\n    <tr style=\"text-align: right;\">\n      <th></th>\n      <th>Div</th>\n      <th>Date</th>\n      <th>Time</th>\n      <th>HomeTeam</th>\n      <th>AwayTeam</th>\n      <th>Home Goals</th>\n      <th>Away Goals</th>\n      <th>FTR</th>\n      <th>HTHG</th>\n      <th>HTAG</th>\n      <th>...</th>\n      <th>AvgC&lt;2.5</th>\n      <th>AHCh</th>\n      <th>B365CAHH</th>\n      <th>B365CAHA</th>\n      <th>PCAHH</th>\n      <th>PCAHA</th>\n      <th>MaxCAHH</th>\n      <th>MaxCAHA</th>\n      <th>AvgCAHH</th>\n      <th>AvgCAHA</th>\n    </tr>\n  </thead>\n  <tbody>\n    <tr>\n      <th>301</th>\n      <td>E0</td>\n      <td>15/04/2023</td>\n      <td>15:00</td>\n      <td>Wolves</td>\n      <td>Brentford</td>\n      <td>2</td>\n      <td>0</td>\n      <td>H</td>\n      <td>1</td>\n      <td>0</td>\n      <td>...</td>\n      <td>1.66</td>\n      <td>0.00</td>\n      <td>2.00</td>\n      <td>1.90</td>\n      <td>2.02</td>\n      <td>1.91</td>\n      <td>2.04</td>\n      <td>1.95</td>\n      <td>1.97</td>\n      <td>1.89</td>\n    </tr>\n    <tr>\n      <th>302</th>\n      <td>E0</td>\n      <td>15/04/2023</td>\n      <td>17:30</td>\n      <td>Man City</td>\n      <td>Leicester</td>\n      <td>3</td>\n      <td>1</td>\n      <td>H</td>\n      <td>3</td>\n      <td>0</td>\n      <td>...</td>\n      <td>3.19</td>\n      <td>-2.25</td>\n      <td>1.92</td>\n      <td>1.98</td>\n      <td>1.94</td>\n      <td>1.96</td>\n      <td>1.95</td>\n      <td>2.08</td>\n      <td>1.86</td>\n      <td>2.00</td>\n    </tr>\n    <tr>\n      <th>303</th>\n      <td>E0</td>\n      <td>16/04/2023</td>\n      <td>14:00</td>\n      <td>West Ham</td>\n      <td>Arsenal</td>\n      <td>2</td>\n      <td>2</td>\n      <td>D</td>\n      <td>1</td>\n      <td>2</td>\n      <td>...</td>\n      <td>2.12</td>\n      <td>1.00</td>\n      <td>1.89</td>\n      <td>2.04</td>\n      <td>1.88</td>\n      <td>2.05</td>\n      <td>1.97</td>\n      <td>2.11</td>\n      <td>1.85</td>\n      <td>2.03</td>\n    </tr>\n    <tr>\n      <th>304</th>\n      <td>E0</td>\n      <td>16/04/2023</td>\n      <td>16:30</td>\n      <td>Nott'm Forest</td>\n      <td>Man United</td>\n      <td>0</td>\n      <td>2</td>\n      <td>A</td>\n      <td>0</td>\n      <td>1</td>\n      <td>...</td>\n      <td>2.12</td>\n      <td>0.75</td>\n      <td>2.02</td>\n      <td>1.91</td>\n      <td>2.02</td>\n      <td>1.91</td>\n      <td>2.09</td>\n      <td>1.92</td>\n      <td>1.99</td>\n      <td>1.88</td>\n    </tr>\n    <tr>\n      <th>305</th>\n      <td>E0</td>\n      <td>17/04/2023</td>\n      <td>20:00</td>\n      <td>Leeds</td>\n      <td>Liverpool</td>\n      <td>1</td>\n      <td>6</td>\n      <td>A</td>\n      <td>0</td>\n      <td>2</td>\n      <td>...</td>\n      <td>2.61</td>\n      <td>0.75</td>\n      <td>2.01</td>\n      <td>1.89</td>\n      <td>2.01</td>\n      <td>1.92</td>\n      <td>2.12</td>\n      <td>1.94</td>\n      <td>2.00</td>\n      <td>1.86</td>\n    </tr>\n  </tbody>\n</table>\n<p>5 rows × 106 columns</p>\n</div>"
     },
     "execution_count": 39,
     "metadata": {},
     "output_type": "execute_result"
    }
   ],
   "source": [
    "# Rename some column names for better readability('FTHG' and 'FTAG'), FT stands for final time:\n",
    "df_premier_league_season_2022_2023.rename(columns={'FTHG': 'Home Goals',\n",
    "                                                   'FTAG': 'Away Goals',\n",
    "                                                   }, inplace=True)\n",
    "df_premier_league_season_2022_2023.tail()"
   ],
   "metadata": {
    "collapsed": false
   }
  },
  {
   "cell_type": "markdown",
   "source": [
    "# 2. Read a .csv file from multiple URLs\n",
    "## url = root + season + league"
   ],
   "metadata": {
    "collapsed": false
   }
  },
  {
   "cell_type": "code",
   "execution_count": 40,
   "outputs": [
    {
     "data": {
      "text/plain": "'https://www.football-data.co.uk/mmz4281/2223/E0.csv'"
     },
     "execution_count": 40,
     "metadata": {},
     "output_type": "execute_result"
    }
   ],
   "source": [
    "# Structure of the link in the following case:\n",
    "# root: https://www.football-data.co.uk/mmz4281/\n",
    "# season: '2223'\n",
    "# league: '/E0'\n",
    "'https://www.football-data.co.uk/mmz4281/' + '2223' + '/E0' + '.csv'"
   ],
   "metadata": {
    "collapsed": false
   }
  },
  {
   "cell_type": "markdown",
   "source": [
    "## 2.1 Multiple leagues just one season:\n",
    "#### https://www.football-data.co.uk/mmz4281/2223/E0.csv\n",
    "#### https://www.football-data.co.uk/mmz4281/2223/E1.csv\n",
    "#### https://www.football-data.co.uk/mmz4281/2223/E2.csv\n",
    "#### https://www.football-data.co.uk/mmz4281/2223/E3.csv\n",
    "#### https://www.football-data.co.uk/mmz4281/2223/EC.csv"
   ],
   "metadata": {
    "collapsed": false
   }
  },
  {
   "cell_type": "code",
   "execution_count": 41,
   "outputs": [],
   "source": [
    "# Root:\n",
    "root = 'https://www.football-data.co.uk/mmz4281/'"
   ],
   "metadata": {
    "collapsed": false
   }
  },
  {
   "cell_type": "code",
   "execution_count": 42,
   "outputs": [],
   "source": [
    "# Season - current 2022/2023\n",
    "season = '2223'"
   ],
   "metadata": {
    "collapsed": false
   }
  },
  {
   "cell_type": "code",
   "execution_count": 43,
   "outputs": [],
   "source": [
    "# All leagues as a list of strings\n",
    "leagues = ['E0', 'E1', 'E2', 'E3', 'EC']\n",
    "\n",
    "# Iterate through all leagues:\n",
    "frames = []\n",
    "\n",
    "for every_league in leagues:\n",
    "    df = pd.read_csv(root + season + '/' + every_league + '.csv')\n",
    "    frames.append(df)"
   ],
   "metadata": {
    "collapsed": false
   }
  },
  {
   "cell_type": "code",
   "execution_count": 44,
   "outputs": [
    {
     "data": {
      "text/plain": "    Div        Date   Time        HomeTeam       AwayTeam  FTHG  FTAG FTR   \n0    E0  05/08/2022  20:00  Crystal Palace        Arsenal     0     2   A  \\\n1    E0  06/08/2022  12:30          Fulham      Liverpool     2     2   D   \n2    E0  06/08/2022  15:00     Bournemouth    Aston Villa     2     0   H   \n3    E0  06/08/2022  15:00           Leeds         Wolves     2     1   H   \n4    E0  06/08/2022  15:00       Newcastle  Nott'm Forest     2     0   H   \n..   ..         ...    ...             ...            ...   ...   ...  ..   \n301  E0  15/04/2023  15:00          Wolves      Brentford     2     0   H   \n302  E0  15/04/2023  17:30        Man City      Leicester     3     1   H   \n303  E0  16/04/2023  14:00        West Ham        Arsenal     2     2   D   \n304  E0  16/04/2023  16:30   Nott'm Forest     Man United     0     2   A   \n305  E0  17/04/2023  20:00           Leeds      Liverpool     1     6   A   \n\n     HTHG  HTAG  ... AvgC<2.5  AHCh  B365CAHH  B365CAHA  PCAHH  PCAHA   \n0       0     1  ...     1.76  0.50      2.09      1.84   2.04   1.88  \\\n1       1     0  ...     2.73  1.75      1.90      2.03   1.91   2.02   \n2       1     0  ...     1.76  0.50      1.93      2.00   1.93   2.00   \n3       1     1  ...     1.87 -0.25      2.08      1.85   2.10   1.84   \n4       0     0  ...     1.89 -1.00      1.97      1.96   1.99   1.93   \n..    ...   ...  ...      ...   ...       ...       ...    ...    ...   \n301     1     0  ...     1.66  0.00      2.00      1.90   2.02   1.91   \n302     3     0  ...     3.19 -2.25      1.92      1.98   1.94   1.96   \n303     1     2  ...     2.12  1.00      1.89      2.04   1.88   2.05   \n304     0     1  ...     2.12  0.75      2.02      1.91   2.02   1.91   \n305     0     2  ...     2.61  0.75      2.01      1.89   2.01   1.92   \n\n     MaxCAHH  MaxCAHA  AvgCAHH  AvgCAHA  \n0       2.09     1.88     2.03     1.85  \n1       2.01     2.06     1.89     1.99  \n2       1.94     2.04     1.88     2.00  \n3       2.14     1.87     2.08     1.81  \n4       2.19     1.97     2.03     1.86  \n..       ...      ...      ...      ...  \n301     2.04     1.95     1.97     1.89  \n302     1.95     2.08     1.86     2.00  \n303     1.97     2.11     1.85     2.03  \n304     2.09     1.92     1.99     1.88  \n305     2.12     1.94     2.00     1.86  \n\n[306 rows x 106 columns]",
      "text/html": "<div>\n<style scoped>\n    .dataframe tbody tr th:only-of-type {\n        vertical-align: middle;\n    }\n\n    .dataframe tbody tr th {\n        vertical-align: top;\n    }\n\n    .dataframe thead th {\n        text-align: right;\n    }\n</style>\n<table border=\"1\" class=\"dataframe\">\n  <thead>\n    <tr style=\"text-align: right;\">\n      <th></th>\n      <th>Div</th>\n      <th>Date</th>\n      <th>Time</th>\n      <th>HomeTeam</th>\n      <th>AwayTeam</th>\n      <th>FTHG</th>\n      <th>FTAG</th>\n      <th>FTR</th>\n      <th>HTHG</th>\n      <th>HTAG</th>\n      <th>...</th>\n      <th>AvgC&lt;2.5</th>\n      <th>AHCh</th>\n      <th>B365CAHH</th>\n      <th>B365CAHA</th>\n      <th>PCAHH</th>\n      <th>PCAHA</th>\n      <th>MaxCAHH</th>\n      <th>MaxCAHA</th>\n      <th>AvgCAHH</th>\n      <th>AvgCAHA</th>\n    </tr>\n  </thead>\n  <tbody>\n    <tr>\n      <th>0</th>\n      <td>E0</td>\n      <td>05/08/2022</td>\n      <td>20:00</td>\n      <td>Crystal Palace</td>\n      <td>Arsenal</td>\n      <td>0</td>\n      <td>2</td>\n      <td>A</td>\n      <td>0</td>\n      <td>1</td>\n      <td>...</td>\n      <td>1.76</td>\n      <td>0.50</td>\n      <td>2.09</td>\n      <td>1.84</td>\n      <td>2.04</td>\n      <td>1.88</td>\n      <td>2.09</td>\n      <td>1.88</td>\n      <td>2.03</td>\n      <td>1.85</td>\n    </tr>\n    <tr>\n      <th>1</th>\n      <td>E0</td>\n      <td>06/08/2022</td>\n      <td>12:30</td>\n      <td>Fulham</td>\n      <td>Liverpool</td>\n      <td>2</td>\n      <td>2</td>\n      <td>D</td>\n      <td>1</td>\n      <td>0</td>\n      <td>...</td>\n      <td>2.73</td>\n      <td>1.75</td>\n      <td>1.90</td>\n      <td>2.03</td>\n      <td>1.91</td>\n      <td>2.02</td>\n      <td>2.01</td>\n      <td>2.06</td>\n      <td>1.89</td>\n      <td>1.99</td>\n    </tr>\n    <tr>\n      <th>2</th>\n      <td>E0</td>\n      <td>06/08/2022</td>\n      <td>15:00</td>\n      <td>Bournemouth</td>\n      <td>Aston Villa</td>\n      <td>2</td>\n      <td>0</td>\n      <td>H</td>\n      <td>1</td>\n      <td>0</td>\n      <td>...</td>\n      <td>1.76</td>\n      <td>0.50</td>\n      <td>1.93</td>\n      <td>2.00</td>\n      <td>1.93</td>\n      <td>2.00</td>\n      <td>1.94</td>\n      <td>2.04</td>\n      <td>1.88</td>\n      <td>2.00</td>\n    </tr>\n    <tr>\n      <th>3</th>\n      <td>E0</td>\n      <td>06/08/2022</td>\n      <td>15:00</td>\n      <td>Leeds</td>\n      <td>Wolves</td>\n      <td>2</td>\n      <td>1</td>\n      <td>H</td>\n      <td>1</td>\n      <td>1</td>\n      <td>...</td>\n      <td>1.87</td>\n      <td>-0.25</td>\n      <td>2.08</td>\n      <td>1.85</td>\n      <td>2.10</td>\n      <td>1.84</td>\n      <td>2.14</td>\n      <td>1.87</td>\n      <td>2.08</td>\n      <td>1.81</td>\n    </tr>\n    <tr>\n      <th>4</th>\n      <td>E0</td>\n      <td>06/08/2022</td>\n      <td>15:00</td>\n      <td>Newcastle</td>\n      <td>Nott'm Forest</td>\n      <td>2</td>\n      <td>0</td>\n      <td>H</td>\n      <td>0</td>\n      <td>0</td>\n      <td>...</td>\n      <td>1.89</td>\n      <td>-1.00</td>\n      <td>1.97</td>\n      <td>1.96</td>\n      <td>1.99</td>\n      <td>1.93</td>\n      <td>2.19</td>\n      <td>1.97</td>\n      <td>2.03</td>\n      <td>1.86</td>\n    </tr>\n    <tr>\n      <th>...</th>\n      <td>...</td>\n      <td>...</td>\n      <td>...</td>\n      <td>...</td>\n      <td>...</td>\n      <td>...</td>\n      <td>...</td>\n      <td>...</td>\n      <td>...</td>\n      <td>...</td>\n      <td>...</td>\n      <td>...</td>\n      <td>...</td>\n      <td>...</td>\n      <td>...</td>\n      <td>...</td>\n      <td>...</td>\n      <td>...</td>\n      <td>...</td>\n      <td>...</td>\n      <td>...</td>\n    </tr>\n    <tr>\n      <th>301</th>\n      <td>E0</td>\n      <td>15/04/2023</td>\n      <td>15:00</td>\n      <td>Wolves</td>\n      <td>Brentford</td>\n      <td>2</td>\n      <td>0</td>\n      <td>H</td>\n      <td>1</td>\n      <td>0</td>\n      <td>...</td>\n      <td>1.66</td>\n      <td>0.00</td>\n      <td>2.00</td>\n      <td>1.90</td>\n      <td>2.02</td>\n      <td>1.91</td>\n      <td>2.04</td>\n      <td>1.95</td>\n      <td>1.97</td>\n      <td>1.89</td>\n    </tr>\n    <tr>\n      <th>302</th>\n      <td>E0</td>\n      <td>15/04/2023</td>\n      <td>17:30</td>\n      <td>Man City</td>\n      <td>Leicester</td>\n      <td>3</td>\n      <td>1</td>\n      <td>H</td>\n      <td>3</td>\n      <td>0</td>\n      <td>...</td>\n      <td>3.19</td>\n      <td>-2.25</td>\n      <td>1.92</td>\n      <td>1.98</td>\n      <td>1.94</td>\n      <td>1.96</td>\n      <td>1.95</td>\n      <td>2.08</td>\n      <td>1.86</td>\n      <td>2.00</td>\n    </tr>\n    <tr>\n      <th>303</th>\n      <td>E0</td>\n      <td>16/04/2023</td>\n      <td>14:00</td>\n      <td>West Ham</td>\n      <td>Arsenal</td>\n      <td>2</td>\n      <td>2</td>\n      <td>D</td>\n      <td>1</td>\n      <td>2</td>\n      <td>...</td>\n      <td>2.12</td>\n      <td>1.00</td>\n      <td>1.89</td>\n      <td>2.04</td>\n      <td>1.88</td>\n      <td>2.05</td>\n      <td>1.97</td>\n      <td>2.11</td>\n      <td>1.85</td>\n      <td>2.03</td>\n    </tr>\n    <tr>\n      <th>304</th>\n      <td>E0</td>\n      <td>16/04/2023</td>\n      <td>16:30</td>\n      <td>Nott'm Forest</td>\n      <td>Man United</td>\n      <td>0</td>\n      <td>2</td>\n      <td>A</td>\n      <td>0</td>\n      <td>1</td>\n      <td>...</td>\n      <td>2.12</td>\n      <td>0.75</td>\n      <td>2.02</td>\n      <td>1.91</td>\n      <td>2.02</td>\n      <td>1.91</td>\n      <td>2.09</td>\n      <td>1.92</td>\n      <td>1.99</td>\n      <td>1.88</td>\n    </tr>\n    <tr>\n      <th>305</th>\n      <td>E0</td>\n      <td>17/04/2023</td>\n      <td>20:00</td>\n      <td>Leeds</td>\n      <td>Liverpool</td>\n      <td>1</td>\n      <td>6</td>\n      <td>A</td>\n      <td>0</td>\n      <td>2</td>\n      <td>...</td>\n      <td>2.61</td>\n      <td>0.75</td>\n      <td>2.01</td>\n      <td>1.89</td>\n      <td>2.01</td>\n      <td>1.92</td>\n      <td>2.12</td>\n      <td>1.94</td>\n      <td>2.00</td>\n      <td>1.86</td>\n    </tr>\n  </tbody>\n</table>\n<p>306 rows × 106 columns</p>\n</div>"
     },
     "execution_count": 44,
     "metadata": {},
     "output_type": "execute_result"
    }
   ],
   "source": [
    "# Display just one league:\n",
    "frames[0]"
   ],
   "metadata": {
    "collapsed": false
   }
  },
  {
   "cell_type": "markdown",
   "source": [
    "## 2.2 Multiple leagues with multiple season:\n"
   ],
   "metadata": {
    "collapsed": false
   }
  },
  {
   "cell_type": "code",
   "execution_count": 45,
   "outputs": [],
   "source": [
    "# Let me choose from season 19/20 to season 22/23 ( 4 seasons )\n",
    "# Season 19/18 as str is '1918' -  str(every_season) + str(every_season + 1)\n",
    "\n",
    "leagues = ['E0', 'E1', 'E2', 'E3', 'EC']\n",
    "\n",
    "# Iterate through every league for all seasons:\n",
    "frames = []\n",
    "\n",
    "for every_league in leagues:\n",
    "    for every_season in range(19, 23):\n",
    "        df = pd.read_csv(root + str(every_season) + str(every_season + 1) + '/' + every_league + '.csv',\n",
    "                         encoding='unicode_escape')\n",
    "        # insert a new column with the season year:\n",
    "        df.insert(1, 'Season year', str(every_season) + '/' + str(every_season + 1))\n",
    "        frames.append(df)\n"
   ],
   "metadata": {
    "collapsed": false
   }
  },
  {
   "cell_type": "code",
   "execution_count": 46,
   "outputs": [
    {
     "data": {
      "text/plain": "20"
     },
     "execution_count": 46,
     "metadata": {},
     "output_type": "execute_result"
    }
   ],
   "source": [
    "# 4 seasons with 5 leagues  = 20 frames\n",
    "len(frames)"
   ],
   "metadata": {
    "collapsed": false
   }
  },
  {
   "cell_type": "code",
   "execution_count": 47,
   "outputs": [
    {
     "data": {
      "text/plain": "    Div Season year        Date   Time     HomeTeam        AwayTeam  FTHG   \n395  E2       19/20  07/03/2020  15:00   Sunderland      Gillingham     2  \\\n396  E2       19/20  10/03/2020  19:45    Blackpool        Tranmere     1   \n397  E2       19/20  10/03/2020  19:45  Bristol Rvs      Sunderland     2   \n398  E2       19/20  10/03/2020  19:45       Burton          Bolton     2   \n399  E2       19/20  10/03/2020  19:45   Portsmouth  Fleetwood Town     2   \n\n     FTAG FTR  HTHG  ...  AvgC<2.5  AHCh B365CAHH  B365CAHA  PCAHH  PCAHA   \n395     2   D     0  ...      1.60 -0.50     1.83      2.02   1.79   2.11  \\\n396     2   A     0  ...      1.75 -0.75     1.98      1.88   2.00   1.90   \n397     0   H     1  ...      1.68  0.75     1.88      1.98   1.91   1.99   \n398     2   D     1  ...      2.08 -1.00     2.02      1.83   2.04   1.86   \n399     2   D     1  ...      1.62 -0.25     1.75      2.05   1.77   2.15   \n\n     MaxCAHH  MaxCAHA  AvgCAHH  AvgCAHA  \n395     1.87     2.11     1.79     2.04  \n396     2.04     2.06     1.93     1.89  \n397     1.95     2.00     1.88     1.94  \n398     2.07     1.98     1.98     1.84  \n399     1.83     2.16     1.76     2.09  \n\n[5 rows x 107 columns]",
      "text/html": "<div>\n<style scoped>\n    .dataframe tbody tr th:only-of-type {\n        vertical-align: middle;\n    }\n\n    .dataframe tbody tr th {\n        vertical-align: top;\n    }\n\n    .dataframe thead th {\n        text-align: right;\n    }\n</style>\n<table border=\"1\" class=\"dataframe\">\n  <thead>\n    <tr style=\"text-align: right;\">\n      <th></th>\n      <th>Div</th>\n      <th>Season year</th>\n      <th>Date</th>\n      <th>Time</th>\n      <th>HomeTeam</th>\n      <th>AwayTeam</th>\n      <th>FTHG</th>\n      <th>FTAG</th>\n      <th>FTR</th>\n      <th>HTHG</th>\n      <th>...</th>\n      <th>AvgC&lt;2.5</th>\n      <th>AHCh</th>\n      <th>B365CAHH</th>\n      <th>B365CAHA</th>\n      <th>PCAHH</th>\n      <th>PCAHA</th>\n      <th>MaxCAHH</th>\n      <th>MaxCAHA</th>\n      <th>AvgCAHH</th>\n      <th>AvgCAHA</th>\n    </tr>\n  </thead>\n  <tbody>\n    <tr>\n      <th>395</th>\n      <td>E2</td>\n      <td>19/20</td>\n      <td>07/03/2020</td>\n      <td>15:00</td>\n      <td>Sunderland</td>\n      <td>Gillingham</td>\n      <td>2</td>\n      <td>2</td>\n      <td>D</td>\n      <td>0</td>\n      <td>...</td>\n      <td>1.60</td>\n      <td>-0.50</td>\n      <td>1.83</td>\n      <td>2.02</td>\n      <td>1.79</td>\n      <td>2.11</td>\n      <td>1.87</td>\n      <td>2.11</td>\n      <td>1.79</td>\n      <td>2.04</td>\n    </tr>\n    <tr>\n      <th>396</th>\n      <td>E2</td>\n      <td>19/20</td>\n      <td>10/03/2020</td>\n      <td>19:45</td>\n      <td>Blackpool</td>\n      <td>Tranmere</td>\n      <td>1</td>\n      <td>2</td>\n      <td>A</td>\n      <td>0</td>\n      <td>...</td>\n      <td>1.75</td>\n      <td>-0.75</td>\n      <td>1.98</td>\n      <td>1.88</td>\n      <td>2.00</td>\n      <td>1.90</td>\n      <td>2.04</td>\n      <td>2.06</td>\n      <td>1.93</td>\n      <td>1.89</td>\n    </tr>\n    <tr>\n      <th>397</th>\n      <td>E2</td>\n      <td>19/20</td>\n      <td>10/03/2020</td>\n      <td>19:45</td>\n      <td>Bristol Rvs</td>\n      <td>Sunderland</td>\n      <td>2</td>\n      <td>0</td>\n      <td>H</td>\n      <td>1</td>\n      <td>...</td>\n      <td>1.68</td>\n      <td>0.75</td>\n      <td>1.88</td>\n      <td>1.98</td>\n      <td>1.91</td>\n      <td>1.99</td>\n      <td>1.95</td>\n      <td>2.00</td>\n      <td>1.88</td>\n      <td>1.94</td>\n    </tr>\n    <tr>\n      <th>398</th>\n      <td>E2</td>\n      <td>19/20</td>\n      <td>10/03/2020</td>\n      <td>19:45</td>\n      <td>Burton</td>\n      <td>Bolton</td>\n      <td>2</td>\n      <td>2</td>\n      <td>D</td>\n      <td>1</td>\n      <td>...</td>\n      <td>2.08</td>\n      <td>-1.00</td>\n      <td>2.02</td>\n      <td>1.83</td>\n      <td>2.04</td>\n      <td>1.86</td>\n      <td>2.07</td>\n      <td>1.98</td>\n      <td>1.98</td>\n      <td>1.84</td>\n    </tr>\n    <tr>\n      <th>399</th>\n      <td>E2</td>\n      <td>19/20</td>\n      <td>10/03/2020</td>\n      <td>19:45</td>\n      <td>Portsmouth</td>\n      <td>Fleetwood Town</td>\n      <td>2</td>\n      <td>2</td>\n      <td>D</td>\n      <td>1</td>\n      <td>...</td>\n      <td>1.62</td>\n      <td>-0.25</td>\n      <td>1.75</td>\n      <td>2.05</td>\n      <td>1.77</td>\n      <td>2.15</td>\n      <td>1.83</td>\n      <td>2.16</td>\n      <td>1.76</td>\n      <td>2.09</td>\n    </tr>\n  </tbody>\n</table>\n<p>5 rows × 107 columns</p>\n</div>"
     },
     "execution_count": 47,
     "metadata": {},
     "output_type": "execute_result"
    }
   ],
   "source": [
    "# Getting information, but it is hard remember which index corresponds to which league\n",
    "frames[8].tail()"
   ],
   "metadata": {
    "collapsed": false
   }
  },
  {
   "cell_type": "markdown",
   "source": [
    "# 3. Organize the data in a dictionary"
   ],
   "metadata": {
    "collapsed": false
   }
  },
  {
   "cell_type": "code",
   "execution_count": 48,
   "outputs": [],
   "source": [
    "# Creating a dictionary with some names of the leagues\n",
    "league_names = {\n",
    "    'Spanish La League': 'SP1',\n",
    "    'Spanish Segunda Division': 'SP2',\n",
    "    'German Bundesliga': 'D1',\n",
    "    'English Premier League': 'E0',\n",
    "    'English League 1': 'E1',\n",
    "    # etc...\n",
    "}"
   ],
   "metadata": {
    "collapsed": false
   }
  },
  {
   "cell_type": "code",
   "execution_count": 49,
   "outputs": [],
   "source": [
    "# Iterate through every league for all seasons:\n",
    "historical_data = {}\n",
    "\n",
    "for league_name, league_code in league_names.items():\n",
    "    frames = []\n",
    "    for every_season in range(19, 23):\n",
    "        df = pd.read_csv(root + str(every_season) + str(every_season + 1) + '/' + league_code + '.csv',\n",
    "                         encoding='unicode_escape')\n",
    "        # insert a new column with the season year:\n",
    "        df.insert(1, 'Season year', str(every_season) + '/' + str(every_season + 1))\n",
    "        frames.append(df)\n",
    "    # concatenate all seasons for current league in 1 data frame\n",
    "    all_season_for_one_league = pd.concat(frames)\n",
    "    # attach the data to a dict with key = real league names and value = all seasons data frame\n",
    "    historical_data[league_name] = all_season_for_one_league\n"
   ],
   "metadata": {
    "collapsed": false
   }
  },
  {
   "cell_type": "code",
   "execution_count": 50,
   "outputs": [
    {
     "data": {
      "text/plain": "     Div Season year        Date   Time    HomeTeam     AwayTeam  FTHG  FTAG   \n0    SP1       19/20  16/08/2019  20:00  Ath Bilbao    Barcelona     1     0  \\\n1    SP1       19/20  17/08/2019  16:00       Celta  Real Madrid     1     3   \n2    SP1       19/20  17/08/2019  18:00    Valencia     Sociedad     1     1   \n3    SP1       19/20  17/08/2019  19:00    Mallorca        Eibar     2     1   \n4    SP1       19/20  17/08/2019  20:00     Leganes      Osasuna     0     1   \n..   ...         ...         ...    ...         ...          ...   ...   ...   \n285  SP1       22/23  16/04/2023  13:00      Girona        Elche     2     0   \n286  SP1       22/23  16/04/2023  15:15      Getafe    Barcelona     0     0   \n287  SP1       22/23  16/04/2023  17:30  Ath Madrid      Almeria     2     1   \n288  SP1       22/23  16/04/2023  20:00    Valencia      Sevilla     0     2   \n289  SP1       22/23  17/04/2023  20:00       Celta     Mallorca     0     1   \n\n    FTR  HTHG  ...  AvgC<2.5  AHCh  B365CAHH  B365CAHA  PCAHH  PCAHA  MaxCAHH   \n0     H     0  ...      1.97  0.75      1.93      2.00   1.91   2.01     2.02  \\\n1     A     0  ...      2.63  1.00      1.82      1.97   1.85   2.07     2.00   \n2     D     0  ...      1.82 -0.75      1.94      1.99   1.92   2.00     1.96   \n3     H     1  ...      1.66  0.00      2.11      1.82   2.09   1.83     2.12   \n4     A     0  ...      1.46 -0.50      1.89      2.04   1.90   2.01     1.95   \n..   ..   ...  ...       ...   ...       ...       ...    ...    ...      ...   \n285   H     1  ...      2.25 -1.25      1.98      1.95   1.99   1.93     2.03   \n286   D     0  ...      1.62  0.75      1.88      2.05   1.88   2.06     2.01   \n287   H     2  ...      2.76 -2.00      2.09      1.84   2.11   1.90     2.13   \n288   A     0  ...      1.67 -0.25      1.87      2.06   1.88   2.04     1.90   \n289   A     0  ...      1.48 -0.75      2.06      1.84   2.10   1.84     2.13   \n\n     MaxCAHA  AvgCAHH  AvgCAHA  \n0       2.03     1.91     1.98  \n1       2.20     1.82     2.06  \n2       2.12     1.89     2.00  \n3       1.88     2.07     1.83  \n4       2.06     1.90     1.99  \n..       ...      ...      ...  \n285     1.97     1.94     1.90  \n286     2.11     1.89     1.97  \n287     1.90     2.01     1.85  \n288     2.20     1.81     2.06  \n289     1.88     2.05     1.81  \n\n[1430 rows x 106 columns]",
      "text/html": "<div>\n<style scoped>\n    .dataframe tbody tr th:only-of-type {\n        vertical-align: middle;\n    }\n\n    .dataframe tbody tr th {\n        vertical-align: top;\n    }\n\n    .dataframe thead th {\n        text-align: right;\n    }\n</style>\n<table border=\"1\" class=\"dataframe\">\n  <thead>\n    <tr style=\"text-align: right;\">\n      <th></th>\n      <th>Div</th>\n      <th>Season year</th>\n      <th>Date</th>\n      <th>Time</th>\n      <th>HomeTeam</th>\n      <th>AwayTeam</th>\n      <th>FTHG</th>\n      <th>FTAG</th>\n      <th>FTR</th>\n      <th>HTHG</th>\n      <th>...</th>\n      <th>AvgC&lt;2.5</th>\n      <th>AHCh</th>\n      <th>B365CAHH</th>\n      <th>B365CAHA</th>\n      <th>PCAHH</th>\n      <th>PCAHA</th>\n      <th>MaxCAHH</th>\n      <th>MaxCAHA</th>\n      <th>AvgCAHH</th>\n      <th>AvgCAHA</th>\n    </tr>\n  </thead>\n  <tbody>\n    <tr>\n      <th>0</th>\n      <td>SP1</td>\n      <td>19/20</td>\n      <td>16/08/2019</td>\n      <td>20:00</td>\n      <td>Ath Bilbao</td>\n      <td>Barcelona</td>\n      <td>1</td>\n      <td>0</td>\n      <td>H</td>\n      <td>0</td>\n      <td>...</td>\n      <td>1.97</td>\n      <td>0.75</td>\n      <td>1.93</td>\n      <td>2.00</td>\n      <td>1.91</td>\n      <td>2.01</td>\n      <td>2.02</td>\n      <td>2.03</td>\n      <td>1.91</td>\n      <td>1.98</td>\n    </tr>\n    <tr>\n      <th>1</th>\n      <td>SP1</td>\n      <td>19/20</td>\n      <td>17/08/2019</td>\n      <td>16:00</td>\n      <td>Celta</td>\n      <td>Real Madrid</td>\n      <td>1</td>\n      <td>3</td>\n      <td>A</td>\n      <td>0</td>\n      <td>...</td>\n      <td>2.63</td>\n      <td>1.00</td>\n      <td>1.82</td>\n      <td>1.97</td>\n      <td>1.85</td>\n      <td>2.07</td>\n      <td>2.00</td>\n      <td>2.20</td>\n      <td>1.82</td>\n      <td>2.06</td>\n    </tr>\n    <tr>\n      <th>2</th>\n      <td>SP1</td>\n      <td>19/20</td>\n      <td>17/08/2019</td>\n      <td>18:00</td>\n      <td>Valencia</td>\n      <td>Sociedad</td>\n      <td>1</td>\n      <td>1</td>\n      <td>D</td>\n      <td>0</td>\n      <td>...</td>\n      <td>1.82</td>\n      <td>-0.75</td>\n      <td>1.94</td>\n      <td>1.99</td>\n      <td>1.92</td>\n      <td>2.00</td>\n      <td>1.96</td>\n      <td>2.12</td>\n      <td>1.89</td>\n      <td>2.00</td>\n    </tr>\n    <tr>\n      <th>3</th>\n      <td>SP1</td>\n      <td>19/20</td>\n      <td>17/08/2019</td>\n      <td>19:00</td>\n      <td>Mallorca</td>\n      <td>Eibar</td>\n      <td>2</td>\n      <td>1</td>\n      <td>H</td>\n      <td>1</td>\n      <td>...</td>\n      <td>1.66</td>\n      <td>0.00</td>\n      <td>2.11</td>\n      <td>1.82</td>\n      <td>2.09</td>\n      <td>1.83</td>\n      <td>2.12</td>\n      <td>1.88</td>\n      <td>2.07</td>\n      <td>1.83</td>\n    </tr>\n    <tr>\n      <th>4</th>\n      <td>SP1</td>\n      <td>19/20</td>\n      <td>17/08/2019</td>\n      <td>20:00</td>\n      <td>Leganes</td>\n      <td>Osasuna</td>\n      <td>0</td>\n      <td>1</td>\n      <td>A</td>\n      <td>0</td>\n      <td>...</td>\n      <td>1.46</td>\n      <td>-0.50</td>\n      <td>1.89</td>\n      <td>2.04</td>\n      <td>1.90</td>\n      <td>2.01</td>\n      <td>1.95</td>\n      <td>2.06</td>\n      <td>1.90</td>\n      <td>1.99</td>\n    </tr>\n    <tr>\n      <th>...</th>\n      <td>...</td>\n      <td>...</td>\n      <td>...</td>\n      <td>...</td>\n      <td>...</td>\n      <td>...</td>\n      <td>...</td>\n      <td>...</td>\n      <td>...</td>\n      <td>...</td>\n      <td>...</td>\n      <td>...</td>\n      <td>...</td>\n      <td>...</td>\n      <td>...</td>\n      <td>...</td>\n      <td>...</td>\n      <td>...</td>\n      <td>...</td>\n      <td>...</td>\n      <td>...</td>\n    </tr>\n    <tr>\n      <th>285</th>\n      <td>SP1</td>\n      <td>22/23</td>\n      <td>16/04/2023</td>\n      <td>13:00</td>\n      <td>Girona</td>\n      <td>Elche</td>\n      <td>2</td>\n      <td>0</td>\n      <td>H</td>\n      <td>1</td>\n      <td>...</td>\n      <td>2.25</td>\n      <td>-1.25</td>\n      <td>1.98</td>\n      <td>1.95</td>\n      <td>1.99</td>\n      <td>1.93</td>\n      <td>2.03</td>\n      <td>1.97</td>\n      <td>1.94</td>\n      <td>1.90</td>\n    </tr>\n    <tr>\n      <th>286</th>\n      <td>SP1</td>\n      <td>22/23</td>\n      <td>16/04/2023</td>\n      <td>15:15</td>\n      <td>Getafe</td>\n      <td>Barcelona</td>\n      <td>0</td>\n      <td>0</td>\n      <td>D</td>\n      <td>0</td>\n      <td>...</td>\n      <td>1.62</td>\n      <td>0.75</td>\n      <td>1.88</td>\n      <td>2.05</td>\n      <td>1.88</td>\n      <td>2.06</td>\n      <td>2.01</td>\n      <td>2.11</td>\n      <td>1.89</td>\n      <td>1.97</td>\n    </tr>\n    <tr>\n      <th>287</th>\n      <td>SP1</td>\n      <td>22/23</td>\n      <td>16/04/2023</td>\n      <td>17:30</td>\n      <td>Ath Madrid</td>\n      <td>Almeria</td>\n      <td>2</td>\n      <td>1</td>\n      <td>H</td>\n      <td>2</td>\n      <td>...</td>\n      <td>2.76</td>\n      <td>-2.00</td>\n      <td>2.09</td>\n      <td>1.84</td>\n      <td>2.11</td>\n      <td>1.90</td>\n      <td>2.13</td>\n      <td>1.90</td>\n      <td>2.01</td>\n      <td>1.85</td>\n    </tr>\n    <tr>\n      <th>288</th>\n      <td>SP1</td>\n      <td>22/23</td>\n      <td>16/04/2023</td>\n      <td>20:00</td>\n      <td>Valencia</td>\n      <td>Sevilla</td>\n      <td>0</td>\n      <td>2</td>\n      <td>A</td>\n      <td>0</td>\n      <td>...</td>\n      <td>1.67</td>\n      <td>-0.25</td>\n      <td>1.87</td>\n      <td>2.06</td>\n      <td>1.88</td>\n      <td>2.04</td>\n      <td>1.90</td>\n      <td>2.20</td>\n      <td>1.81</td>\n      <td>2.06</td>\n    </tr>\n    <tr>\n      <th>289</th>\n      <td>SP1</td>\n      <td>22/23</td>\n      <td>17/04/2023</td>\n      <td>20:00</td>\n      <td>Celta</td>\n      <td>Mallorca</td>\n      <td>0</td>\n      <td>1</td>\n      <td>A</td>\n      <td>0</td>\n      <td>...</td>\n      <td>1.48</td>\n      <td>-0.75</td>\n      <td>2.06</td>\n      <td>1.84</td>\n      <td>2.10</td>\n      <td>1.84</td>\n      <td>2.13</td>\n      <td>1.88</td>\n      <td>2.05</td>\n      <td>1.81</td>\n    </tr>\n  </tbody>\n</table>\n<p>1430 rows × 106 columns</p>\n</div>"
     },
     "execution_count": 50,
     "metadata": {},
     "output_type": "execute_result"
    }
   ],
   "source": [
    "# Easier to get information using real names instead of index\n",
    "historical_data['Spanish La League']"
   ],
   "metadata": {
    "collapsed": false
   }
  },
  {
   "cell_type": "code",
   "execution_count": 51,
   "outputs": [
    {
     "data": {
      "text/plain": "    Div Season year        Date   Time       HomeTeam            AwayTeam   \n0    D1       19/20  16/08/2019  19:30  Bayern Munich              Hertha  \\\n1    D1       19/20  17/08/2019  14:30       Dortmund            Augsburg   \n2    D1       19/20  17/08/2019  14:30       Freiburg               Mainz   \n3    D1       19/20  17/08/2019  14:30     Leverkusen           Paderborn   \n4    D1       19/20  17/08/2019  14:30  Werder Bremen  Fortuna Dusseldorf   \n..   ..         ...         ...    ...            ...                 ...   \n247  D1       22/23  15/04/2023  14:30      Stuttgart            Dortmund   \n248  D1       22/23  15/04/2023  17:30  Ein Frankfurt          M'gladbach   \n249  D1       22/23  16/04/2023  14:30  Werder Bremen            Freiburg   \n250  D1       22/23  16/04/2023  16:30   Union Berlin              Bochum   \n251  D1       22/23  16/04/2023  18:30      Wolfsburg          Leverkusen   \n\n     FTHG  FTAG FTR  HTHG  ...  AvgC<2.5  AHCh  B365CAHH  B365CAHA  PCAHH   \n0       2     2   D     1  ...      3.40 -2.25      2.03      1.90   1.99  \\\n1       5     1   H     1  ...      3.31 -2.25      1.92      2.01   1.92   \n2       3     0   H     0  ...      1.89  0.00      1.92      2.01   1.94   \n3       3     2   H     2  ...      3.58 -2.00      2.07      1.86   2.05   \n4       1     3   A     0  ...      2.26 -0.75      1.92      2.01   1.92   \n..    ...   ...  ..   ...  ...       ...   ...       ...       ...    ...   \n247     3     3   D     0  ...      2.31  0.25      1.80      2.10   1.84   \n248     1     1   D     0  ...      2.28 -0.50      1.94      1.96   1.95   \n249     1     2   A     0  ...      1.72  0.00      1.96      1.97   2.00   \n250     1     1   D     1  ...      1.72 -0.75      2.03      1.90   2.03   \n251     0     0   D     0  ...      2.15  0.00      2.06      1.87   2.09   \n\n     PCAHA  MaxCAHH  MaxCAHA  AvgCAHH  AvgCAHA  \n0     1.93     2.04     1.93     1.98     1.91  \n1     2.00     1.98     2.04     1.91     1.97  \n2     1.97     1.97     2.06     1.90     1.99  \n3     1.86     2.15     1.91     2.03     1.85  \n4     2.00     1.95     2.11     1.89     2.00  \n..     ...      ...      ...      ...      ...  \n247   2.10     1.89     2.16     1.81     2.03  \n248   1.97     1.98     2.07     1.90     1.94  \n249   1.93     2.03     2.00     1.95     1.91  \n250   1.90     2.03     2.02     1.92     1.92  \n251   1.85     2.12     1.92     2.02     1.85  \n\n[1170 rows x 106 columns]",
      "text/html": "<div>\n<style scoped>\n    .dataframe tbody tr th:only-of-type {\n        vertical-align: middle;\n    }\n\n    .dataframe tbody tr th {\n        vertical-align: top;\n    }\n\n    .dataframe thead th {\n        text-align: right;\n    }\n</style>\n<table border=\"1\" class=\"dataframe\">\n  <thead>\n    <tr style=\"text-align: right;\">\n      <th></th>\n      <th>Div</th>\n      <th>Season year</th>\n      <th>Date</th>\n      <th>Time</th>\n      <th>HomeTeam</th>\n      <th>AwayTeam</th>\n      <th>FTHG</th>\n      <th>FTAG</th>\n      <th>FTR</th>\n      <th>HTHG</th>\n      <th>...</th>\n      <th>AvgC&lt;2.5</th>\n      <th>AHCh</th>\n      <th>B365CAHH</th>\n      <th>B365CAHA</th>\n      <th>PCAHH</th>\n      <th>PCAHA</th>\n      <th>MaxCAHH</th>\n      <th>MaxCAHA</th>\n      <th>AvgCAHH</th>\n      <th>AvgCAHA</th>\n    </tr>\n  </thead>\n  <tbody>\n    <tr>\n      <th>0</th>\n      <td>D1</td>\n      <td>19/20</td>\n      <td>16/08/2019</td>\n      <td>19:30</td>\n      <td>Bayern Munich</td>\n      <td>Hertha</td>\n      <td>2</td>\n      <td>2</td>\n      <td>D</td>\n      <td>1</td>\n      <td>...</td>\n      <td>3.40</td>\n      <td>-2.25</td>\n      <td>2.03</td>\n      <td>1.90</td>\n      <td>1.99</td>\n      <td>1.93</td>\n      <td>2.04</td>\n      <td>1.93</td>\n      <td>1.98</td>\n      <td>1.91</td>\n    </tr>\n    <tr>\n      <th>1</th>\n      <td>D1</td>\n      <td>19/20</td>\n      <td>17/08/2019</td>\n      <td>14:30</td>\n      <td>Dortmund</td>\n      <td>Augsburg</td>\n      <td>5</td>\n      <td>1</td>\n      <td>H</td>\n      <td>1</td>\n      <td>...</td>\n      <td>3.31</td>\n      <td>-2.25</td>\n      <td>1.92</td>\n      <td>2.01</td>\n      <td>1.92</td>\n      <td>2.00</td>\n      <td>1.98</td>\n      <td>2.04</td>\n      <td>1.91</td>\n      <td>1.97</td>\n    </tr>\n    <tr>\n      <th>2</th>\n      <td>D1</td>\n      <td>19/20</td>\n      <td>17/08/2019</td>\n      <td>14:30</td>\n      <td>Freiburg</td>\n      <td>Mainz</td>\n      <td>3</td>\n      <td>0</td>\n      <td>H</td>\n      <td>0</td>\n      <td>...</td>\n      <td>1.89</td>\n      <td>0.00</td>\n      <td>1.92</td>\n      <td>2.01</td>\n      <td>1.94</td>\n      <td>1.97</td>\n      <td>1.97</td>\n      <td>2.06</td>\n      <td>1.90</td>\n      <td>1.99</td>\n    </tr>\n    <tr>\n      <th>3</th>\n      <td>D1</td>\n      <td>19/20</td>\n      <td>17/08/2019</td>\n      <td>14:30</td>\n      <td>Leverkusen</td>\n      <td>Paderborn</td>\n      <td>3</td>\n      <td>2</td>\n      <td>H</td>\n      <td>2</td>\n      <td>...</td>\n      <td>3.58</td>\n      <td>-2.00</td>\n      <td>2.07</td>\n      <td>1.86</td>\n      <td>2.05</td>\n      <td>1.86</td>\n      <td>2.15</td>\n      <td>1.91</td>\n      <td>2.03</td>\n      <td>1.85</td>\n    </tr>\n    <tr>\n      <th>4</th>\n      <td>D1</td>\n      <td>19/20</td>\n      <td>17/08/2019</td>\n      <td>14:30</td>\n      <td>Werder Bremen</td>\n      <td>Fortuna Dusseldorf</td>\n      <td>1</td>\n      <td>3</td>\n      <td>A</td>\n      <td>0</td>\n      <td>...</td>\n      <td>2.26</td>\n      <td>-0.75</td>\n      <td>1.92</td>\n      <td>2.01</td>\n      <td>1.92</td>\n      <td>2.00</td>\n      <td>1.95</td>\n      <td>2.11</td>\n      <td>1.89</td>\n      <td>2.00</td>\n    </tr>\n    <tr>\n      <th>...</th>\n      <td>...</td>\n      <td>...</td>\n      <td>...</td>\n      <td>...</td>\n      <td>...</td>\n      <td>...</td>\n      <td>...</td>\n      <td>...</td>\n      <td>...</td>\n      <td>...</td>\n      <td>...</td>\n      <td>...</td>\n      <td>...</td>\n      <td>...</td>\n      <td>...</td>\n      <td>...</td>\n      <td>...</td>\n      <td>...</td>\n      <td>...</td>\n      <td>...</td>\n      <td>...</td>\n    </tr>\n    <tr>\n      <th>247</th>\n      <td>D1</td>\n      <td>22/23</td>\n      <td>15/04/2023</td>\n      <td>14:30</td>\n      <td>Stuttgart</td>\n      <td>Dortmund</td>\n      <td>3</td>\n      <td>3</td>\n      <td>D</td>\n      <td>0</td>\n      <td>...</td>\n      <td>2.31</td>\n      <td>0.25</td>\n      <td>1.80</td>\n      <td>2.10</td>\n      <td>1.84</td>\n      <td>2.10</td>\n      <td>1.89</td>\n      <td>2.16</td>\n      <td>1.81</td>\n      <td>2.03</td>\n    </tr>\n    <tr>\n      <th>248</th>\n      <td>D1</td>\n      <td>22/23</td>\n      <td>15/04/2023</td>\n      <td>17:30</td>\n      <td>Ein Frankfurt</td>\n      <td>M'gladbach</td>\n      <td>1</td>\n      <td>1</td>\n      <td>D</td>\n      <td>0</td>\n      <td>...</td>\n      <td>2.28</td>\n      <td>-0.50</td>\n      <td>1.94</td>\n      <td>1.96</td>\n      <td>1.95</td>\n      <td>1.97</td>\n      <td>1.98</td>\n      <td>2.07</td>\n      <td>1.90</td>\n      <td>1.94</td>\n    </tr>\n    <tr>\n      <th>249</th>\n      <td>D1</td>\n      <td>22/23</td>\n      <td>16/04/2023</td>\n      <td>14:30</td>\n      <td>Werder Bremen</td>\n      <td>Freiburg</td>\n      <td>1</td>\n      <td>2</td>\n      <td>A</td>\n      <td>0</td>\n      <td>...</td>\n      <td>1.72</td>\n      <td>0.00</td>\n      <td>1.96</td>\n      <td>1.97</td>\n      <td>2.00</td>\n      <td>1.93</td>\n      <td>2.03</td>\n      <td>2.00</td>\n      <td>1.95</td>\n      <td>1.91</td>\n    </tr>\n    <tr>\n      <th>250</th>\n      <td>D1</td>\n      <td>22/23</td>\n      <td>16/04/2023</td>\n      <td>16:30</td>\n      <td>Union Berlin</td>\n      <td>Bochum</td>\n      <td>1</td>\n      <td>1</td>\n      <td>D</td>\n      <td>1</td>\n      <td>...</td>\n      <td>1.72</td>\n      <td>-0.75</td>\n      <td>2.03</td>\n      <td>1.90</td>\n      <td>2.03</td>\n      <td>1.90</td>\n      <td>2.03</td>\n      <td>2.02</td>\n      <td>1.92</td>\n      <td>1.92</td>\n    </tr>\n    <tr>\n      <th>251</th>\n      <td>D1</td>\n      <td>22/23</td>\n      <td>16/04/2023</td>\n      <td>18:30</td>\n      <td>Wolfsburg</td>\n      <td>Leverkusen</td>\n      <td>0</td>\n      <td>0</td>\n      <td>D</td>\n      <td>0</td>\n      <td>...</td>\n      <td>2.15</td>\n      <td>0.00</td>\n      <td>2.06</td>\n      <td>1.87</td>\n      <td>2.09</td>\n      <td>1.85</td>\n      <td>2.12</td>\n      <td>1.92</td>\n      <td>2.02</td>\n      <td>1.85</td>\n    </tr>\n  </tbody>\n</table>\n<p>1170 rows × 106 columns</p>\n</div>"
     },
     "execution_count": 51,
     "metadata": {},
     "output_type": "execute_result"
    }
   ],
   "source": [
    "historical_data['German Bundesliga']"
   ],
   "metadata": {
    "collapsed": false
   }
  },
  {
   "cell_type": "code",
   "execution_count": 51,
   "outputs": [],
   "source": [],
   "metadata": {
    "collapsed": false
   }
  }
 ],
 "metadata": {
  "kernelspec": {
   "display_name": "Python 3",
   "language": "python",
   "name": "python3"
  },
  "language_info": {
   "codemirror_mode": {
    "name": "ipython",
    "version": 2
   },
   "file_extension": ".py",
   "mimetype": "text/x-python",
   "name": "python",
   "nbconvert_exporter": "python",
   "pygments_lexer": "ipython2",
   "version": "2.7.6"
  }
 },
 "nbformat": 4,
 "nbformat_minor": 0
}
