{
 "cells": [
  {
   "cell_type": "markdown",
   "source": [
    "# 1. Read a .csv file from url with Pandas\n"
   ],
   "metadata": {
    "collapsed": false
   }
  },
  {
   "cell_type": "markdown",
   "source": [
    "### Destination website: https://www.football-data.co.uk/englandm.php"
   ],
   "metadata": {
    "collapsed": false
   }
  },
  {
   "cell_type": "code",
   "execution_count": 44,
   "outputs": [],
   "source": [
    "import pandas as pd"
   ],
   "metadata": {
    "collapsed": false
   }
  },
  {
   "cell_type": "code",
   "execution_count": 45,
   "outputs": [
    {
     "data": {
      "text/plain": "    Div        Date   Time        HomeTeam       AwayTeam  FTHG  FTAG FTR   \n0    E0  05/08/2022  20:00  Crystal Palace        Arsenal     0     2   A  \\\n1    E0  06/08/2022  12:30          Fulham      Liverpool     2     2   D   \n2    E0  06/08/2022  15:00     Bournemouth    Aston Villa     2     0   H   \n3    E0  06/08/2022  15:00           Leeds         Wolves     2     1   H   \n4    E0  06/08/2022  15:00       Newcastle  Nott'm Forest     2     0   H   \n..   ..         ...    ...             ...            ...   ...   ...  ..   \n301  E0  15/04/2023  15:00          Wolves      Brentford     2     0   H   \n302  E0  15/04/2023  17:30        Man City      Leicester     3     1   H   \n303  E0  16/04/2023  14:00        West Ham        Arsenal     2     2   D   \n304  E0  16/04/2023  16:30   Nott'm Forest     Man United     0     2   A   \n305  E0  17/04/2023  20:00           Leeds      Liverpool     1     6   A   \n\n     HTHG  HTAG  ... AvgC<2.5  AHCh  B365CAHH  B365CAHA  PCAHH  PCAHA   \n0       0     1  ...     1.76  0.50      2.09      1.84   2.04   1.88  \\\n1       1     0  ...     2.73  1.75      1.90      2.03   1.91   2.02   \n2       1     0  ...     1.76  0.50      1.93      2.00   1.93   2.00   \n3       1     1  ...     1.87 -0.25      2.08      1.85   2.10   1.84   \n4       0     0  ...     1.89 -1.00      1.97      1.96   1.99   1.93   \n..    ...   ...  ...      ...   ...       ...       ...    ...    ...   \n301     1     0  ...     1.66  0.00      2.00      1.90   2.02   1.91   \n302     3     0  ...     3.19 -2.25      1.92      1.98   1.94   1.96   \n303     1     2  ...     2.12  1.00      1.89      2.04   1.88   2.05   \n304     0     1  ...     2.12  0.75      2.02      1.91   2.02   1.91   \n305     0     2  ...     2.61  0.75      2.01      1.89   2.01   1.92   \n\n     MaxCAHH  MaxCAHA  AvgCAHH  AvgCAHA  \n0       2.09     1.88     2.03     1.85  \n1       2.01     2.06     1.89     1.99  \n2       1.94     2.04     1.88     2.00  \n3       2.14     1.87     2.08     1.81  \n4       2.19     1.97     2.03     1.86  \n..       ...      ...      ...      ...  \n301     2.04     1.95     1.97     1.89  \n302     1.95     2.08     1.86     2.00  \n303     1.97     2.11     1.85     2.03  \n304     2.09     1.92     1.99     1.88  \n305     2.12     1.94     2.00     1.86  \n\n[306 rows x 106 columns]",
      "text/html": "<div>\n<style scoped>\n    .dataframe tbody tr th:only-of-type {\n        vertical-align: middle;\n    }\n\n    .dataframe tbody tr th {\n        vertical-align: top;\n    }\n\n    .dataframe thead th {\n        text-align: right;\n    }\n</style>\n<table border=\"1\" class=\"dataframe\">\n  <thead>\n    <tr style=\"text-align: right;\">\n      <th></th>\n      <th>Div</th>\n      <th>Date</th>\n      <th>Time</th>\n      <th>HomeTeam</th>\n      <th>AwayTeam</th>\n      <th>FTHG</th>\n      <th>FTAG</th>\n      <th>FTR</th>\n      <th>HTHG</th>\n      <th>HTAG</th>\n      <th>...</th>\n      <th>AvgC&lt;2.5</th>\n      <th>AHCh</th>\n      <th>B365CAHH</th>\n      <th>B365CAHA</th>\n      <th>PCAHH</th>\n      <th>PCAHA</th>\n      <th>MaxCAHH</th>\n      <th>MaxCAHA</th>\n      <th>AvgCAHH</th>\n      <th>AvgCAHA</th>\n    </tr>\n  </thead>\n  <tbody>\n    <tr>\n      <th>0</th>\n      <td>E0</td>\n      <td>05/08/2022</td>\n      <td>20:00</td>\n      <td>Crystal Palace</td>\n      <td>Arsenal</td>\n      <td>0</td>\n      <td>2</td>\n      <td>A</td>\n      <td>0</td>\n      <td>1</td>\n      <td>...</td>\n      <td>1.76</td>\n      <td>0.50</td>\n      <td>2.09</td>\n      <td>1.84</td>\n      <td>2.04</td>\n      <td>1.88</td>\n      <td>2.09</td>\n      <td>1.88</td>\n      <td>2.03</td>\n      <td>1.85</td>\n    </tr>\n    <tr>\n      <th>1</th>\n      <td>E0</td>\n      <td>06/08/2022</td>\n      <td>12:30</td>\n      <td>Fulham</td>\n      <td>Liverpool</td>\n      <td>2</td>\n      <td>2</td>\n      <td>D</td>\n      <td>1</td>\n      <td>0</td>\n      <td>...</td>\n      <td>2.73</td>\n      <td>1.75</td>\n      <td>1.90</td>\n      <td>2.03</td>\n      <td>1.91</td>\n      <td>2.02</td>\n      <td>2.01</td>\n      <td>2.06</td>\n      <td>1.89</td>\n      <td>1.99</td>\n    </tr>\n    <tr>\n      <th>2</th>\n      <td>E0</td>\n      <td>06/08/2022</td>\n      <td>15:00</td>\n      <td>Bournemouth</td>\n      <td>Aston Villa</td>\n      <td>2</td>\n      <td>0</td>\n      <td>H</td>\n      <td>1</td>\n      <td>0</td>\n      <td>...</td>\n      <td>1.76</td>\n      <td>0.50</td>\n      <td>1.93</td>\n      <td>2.00</td>\n      <td>1.93</td>\n      <td>2.00</td>\n      <td>1.94</td>\n      <td>2.04</td>\n      <td>1.88</td>\n      <td>2.00</td>\n    </tr>\n    <tr>\n      <th>3</th>\n      <td>E0</td>\n      <td>06/08/2022</td>\n      <td>15:00</td>\n      <td>Leeds</td>\n      <td>Wolves</td>\n      <td>2</td>\n      <td>1</td>\n      <td>H</td>\n      <td>1</td>\n      <td>1</td>\n      <td>...</td>\n      <td>1.87</td>\n      <td>-0.25</td>\n      <td>2.08</td>\n      <td>1.85</td>\n      <td>2.10</td>\n      <td>1.84</td>\n      <td>2.14</td>\n      <td>1.87</td>\n      <td>2.08</td>\n      <td>1.81</td>\n    </tr>\n    <tr>\n      <th>4</th>\n      <td>E0</td>\n      <td>06/08/2022</td>\n      <td>15:00</td>\n      <td>Newcastle</td>\n      <td>Nott'm Forest</td>\n      <td>2</td>\n      <td>0</td>\n      <td>H</td>\n      <td>0</td>\n      <td>0</td>\n      <td>...</td>\n      <td>1.89</td>\n      <td>-1.00</td>\n      <td>1.97</td>\n      <td>1.96</td>\n      <td>1.99</td>\n      <td>1.93</td>\n      <td>2.19</td>\n      <td>1.97</td>\n      <td>2.03</td>\n      <td>1.86</td>\n    </tr>\n    <tr>\n      <th>...</th>\n      <td>...</td>\n      <td>...</td>\n      <td>...</td>\n      <td>...</td>\n      <td>...</td>\n      <td>...</td>\n      <td>...</td>\n      <td>...</td>\n      <td>...</td>\n      <td>...</td>\n      <td>...</td>\n      <td>...</td>\n      <td>...</td>\n      <td>...</td>\n      <td>...</td>\n      <td>...</td>\n      <td>...</td>\n      <td>...</td>\n      <td>...</td>\n      <td>...</td>\n      <td>...</td>\n    </tr>\n    <tr>\n      <th>301</th>\n      <td>E0</td>\n      <td>15/04/2023</td>\n      <td>15:00</td>\n      <td>Wolves</td>\n      <td>Brentford</td>\n      <td>2</td>\n      <td>0</td>\n      <td>H</td>\n      <td>1</td>\n      <td>0</td>\n      <td>...</td>\n      <td>1.66</td>\n      <td>0.00</td>\n      <td>2.00</td>\n      <td>1.90</td>\n      <td>2.02</td>\n      <td>1.91</td>\n      <td>2.04</td>\n      <td>1.95</td>\n      <td>1.97</td>\n      <td>1.89</td>\n    </tr>\n    <tr>\n      <th>302</th>\n      <td>E0</td>\n      <td>15/04/2023</td>\n      <td>17:30</td>\n      <td>Man City</td>\n      <td>Leicester</td>\n      <td>3</td>\n      <td>1</td>\n      <td>H</td>\n      <td>3</td>\n      <td>0</td>\n      <td>...</td>\n      <td>3.19</td>\n      <td>-2.25</td>\n      <td>1.92</td>\n      <td>1.98</td>\n      <td>1.94</td>\n      <td>1.96</td>\n      <td>1.95</td>\n      <td>2.08</td>\n      <td>1.86</td>\n      <td>2.00</td>\n    </tr>\n    <tr>\n      <th>303</th>\n      <td>E0</td>\n      <td>16/04/2023</td>\n      <td>14:00</td>\n      <td>West Ham</td>\n      <td>Arsenal</td>\n      <td>2</td>\n      <td>2</td>\n      <td>D</td>\n      <td>1</td>\n      <td>2</td>\n      <td>...</td>\n      <td>2.12</td>\n      <td>1.00</td>\n      <td>1.89</td>\n      <td>2.04</td>\n      <td>1.88</td>\n      <td>2.05</td>\n      <td>1.97</td>\n      <td>2.11</td>\n      <td>1.85</td>\n      <td>2.03</td>\n    </tr>\n    <tr>\n      <th>304</th>\n      <td>E0</td>\n      <td>16/04/2023</td>\n      <td>16:30</td>\n      <td>Nott'm Forest</td>\n      <td>Man United</td>\n      <td>0</td>\n      <td>2</td>\n      <td>A</td>\n      <td>0</td>\n      <td>1</td>\n      <td>...</td>\n      <td>2.12</td>\n      <td>0.75</td>\n      <td>2.02</td>\n      <td>1.91</td>\n      <td>2.02</td>\n      <td>1.91</td>\n      <td>2.09</td>\n      <td>1.92</td>\n      <td>1.99</td>\n      <td>1.88</td>\n    </tr>\n    <tr>\n      <th>305</th>\n      <td>E0</td>\n      <td>17/04/2023</td>\n      <td>20:00</td>\n      <td>Leeds</td>\n      <td>Liverpool</td>\n      <td>1</td>\n      <td>6</td>\n      <td>A</td>\n      <td>0</td>\n      <td>2</td>\n      <td>...</td>\n      <td>2.61</td>\n      <td>0.75</td>\n      <td>2.01</td>\n      <td>1.89</td>\n      <td>2.01</td>\n      <td>1.92</td>\n      <td>2.12</td>\n      <td>1.94</td>\n      <td>2.00</td>\n      <td>1.86</td>\n    </tr>\n  </tbody>\n</table>\n<p>306 rows × 106 columns</p>\n</div>"
     },
     "execution_count": 45,
     "metadata": {},
     "output_type": "execute_result"
    }
   ],
   "source": [
    "# Reading the data from a single csv file at the website - just Season 2022/2023 Premier League:\n",
    "df_premier_league_season_2022_2023 = pd.read_csv('https://www.football-data.co.uk/mmz4281/2223/E0.csv')\n",
    "df_premier_league_season_2022_2023"
   ],
   "metadata": {
    "collapsed": false
   }
  },
  {
   "cell_type": "code",
   "execution_count": 46,
   "outputs": [
    {
     "data": {
      "text/plain": "    Div        Date   Time       HomeTeam    AwayTeam  Home Goals  Away Goals   \n301  E0  15/04/2023  15:00         Wolves   Brentford           2           0  \\\n302  E0  15/04/2023  17:30       Man City   Leicester           3           1   \n303  E0  16/04/2023  14:00       West Ham     Arsenal           2           2   \n304  E0  16/04/2023  16:30  Nott'm Forest  Man United           0           2   \n305  E0  17/04/2023  20:00          Leeds   Liverpool           1           6   \n\n    FTR  HTHG  HTAG  ... AvgC<2.5  AHCh  B365CAHH  B365CAHA  PCAHH  PCAHA   \n301   H     1     0  ...     1.66  0.00      2.00      1.90   2.02   1.91  \\\n302   H     3     0  ...     3.19 -2.25      1.92      1.98   1.94   1.96   \n303   D     1     2  ...     2.12  1.00      1.89      2.04   1.88   2.05   \n304   A     0     1  ...     2.12  0.75      2.02      1.91   2.02   1.91   \n305   A     0     2  ...     2.61  0.75      2.01      1.89   2.01   1.92   \n\n     MaxCAHH  MaxCAHA  AvgCAHH  AvgCAHA  \n301     2.04     1.95     1.97     1.89  \n302     1.95     2.08     1.86     2.00  \n303     1.97     2.11     1.85     2.03  \n304     2.09     1.92     1.99     1.88  \n305     2.12     1.94     2.00     1.86  \n\n[5 rows x 106 columns]",
      "text/html": "<div>\n<style scoped>\n    .dataframe tbody tr th:only-of-type {\n        vertical-align: middle;\n    }\n\n    .dataframe tbody tr th {\n        vertical-align: top;\n    }\n\n    .dataframe thead th {\n        text-align: right;\n    }\n</style>\n<table border=\"1\" class=\"dataframe\">\n  <thead>\n    <tr style=\"text-align: right;\">\n      <th></th>\n      <th>Div</th>\n      <th>Date</th>\n      <th>Time</th>\n      <th>HomeTeam</th>\n      <th>AwayTeam</th>\n      <th>Home Goals</th>\n      <th>Away Goals</th>\n      <th>FTR</th>\n      <th>HTHG</th>\n      <th>HTAG</th>\n      <th>...</th>\n      <th>AvgC&lt;2.5</th>\n      <th>AHCh</th>\n      <th>B365CAHH</th>\n      <th>B365CAHA</th>\n      <th>PCAHH</th>\n      <th>PCAHA</th>\n      <th>MaxCAHH</th>\n      <th>MaxCAHA</th>\n      <th>AvgCAHH</th>\n      <th>AvgCAHA</th>\n    </tr>\n  </thead>\n  <tbody>\n    <tr>\n      <th>301</th>\n      <td>E0</td>\n      <td>15/04/2023</td>\n      <td>15:00</td>\n      <td>Wolves</td>\n      <td>Brentford</td>\n      <td>2</td>\n      <td>0</td>\n      <td>H</td>\n      <td>1</td>\n      <td>0</td>\n      <td>...</td>\n      <td>1.66</td>\n      <td>0.00</td>\n      <td>2.00</td>\n      <td>1.90</td>\n      <td>2.02</td>\n      <td>1.91</td>\n      <td>2.04</td>\n      <td>1.95</td>\n      <td>1.97</td>\n      <td>1.89</td>\n    </tr>\n    <tr>\n      <th>302</th>\n      <td>E0</td>\n      <td>15/04/2023</td>\n      <td>17:30</td>\n      <td>Man City</td>\n      <td>Leicester</td>\n      <td>3</td>\n      <td>1</td>\n      <td>H</td>\n      <td>3</td>\n      <td>0</td>\n      <td>...</td>\n      <td>3.19</td>\n      <td>-2.25</td>\n      <td>1.92</td>\n      <td>1.98</td>\n      <td>1.94</td>\n      <td>1.96</td>\n      <td>1.95</td>\n      <td>2.08</td>\n      <td>1.86</td>\n      <td>2.00</td>\n    </tr>\n    <tr>\n      <th>303</th>\n      <td>E0</td>\n      <td>16/04/2023</td>\n      <td>14:00</td>\n      <td>West Ham</td>\n      <td>Arsenal</td>\n      <td>2</td>\n      <td>2</td>\n      <td>D</td>\n      <td>1</td>\n      <td>2</td>\n      <td>...</td>\n      <td>2.12</td>\n      <td>1.00</td>\n      <td>1.89</td>\n      <td>2.04</td>\n      <td>1.88</td>\n      <td>2.05</td>\n      <td>1.97</td>\n      <td>2.11</td>\n      <td>1.85</td>\n      <td>2.03</td>\n    </tr>\n    <tr>\n      <th>304</th>\n      <td>E0</td>\n      <td>16/04/2023</td>\n      <td>16:30</td>\n      <td>Nott'm Forest</td>\n      <td>Man United</td>\n      <td>0</td>\n      <td>2</td>\n      <td>A</td>\n      <td>0</td>\n      <td>1</td>\n      <td>...</td>\n      <td>2.12</td>\n      <td>0.75</td>\n      <td>2.02</td>\n      <td>1.91</td>\n      <td>2.02</td>\n      <td>1.91</td>\n      <td>2.09</td>\n      <td>1.92</td>\n      <td>1.99</td>\n      <td>1.88</td>\n    </tr>\n    <tr>\n      <th>305</th>\n      <td>E0</td>\n      <td>17/04/2023</td>\n      <td>20:00</td>\n      <td>Leeds</td>\n      <td>Liverpool</td>\n      <td>1</td>\n      <td>6</td>\n      <td>A</td>\n      <td>0</td>\n      <td>2</td>\n      <td>...</td>\n      <td>2.61</td>\n      <td>0.75</td>\n      <td>2.01</td>\n      <td>1.89</td>\n      <td>2.01</td>\n      <td>1.92</td>\n      <td>2.12</td>\n      <td>1.94</td>\n      <td>2.00</td>\n      <td>1.86</td>\n    </tr>\n  </tbody>\n</table>\n<p>5 rows × 106 columns</p>\n</div>"
     },
     "execution_count": 46,
     "metadata": {},
     "output_type": "execute_result"
    }
   ],
   "source": [
    "# Rename some column names for better readability('FTHG' and 'FTAG'), FT stands for final time:\n",
    "df_premier_league_season_2022_2023.rename(columns={'FTHG': 'Home Goals',\n",
    "                                                   'FTAG': 'Away Goals',\n",
    "                                                   }, inplace=True)\n",
    "df_premier_league_season_2022_2023.tail()"
   ],
   "metadata": {
    "collapsed": false
   }
  },
  {
   "cell_type": "markdown",
   "source": [
    "# 2. Read a .csv file from multiple URLs\n",
    "## url = root + season + league"
   ],
   "metadata": {
    "collapsed": false
   }
  },
  {
   "cell_type": "code",
   "execution_count": 47,
   "outputs": [
    {
     "data": {
      "text/plain": "'https://www.football-data.co.uk/mmz4281/2223/E0.csv'"
     },
     "execution_count": 47,
     "metadata": {},
     "output_type": "execute_result"
    }
   ],
   "source": [
    "# Structure of the link in the following case:\n",
    "# root: https://www.football-data.co.uk/mmz4281/\n",
    "# season: '2223'\n",
    "# league: '/E0'\n",
    "'https://www.football-data.co.uk/mmz4281/' + '2223' + '/E0' + '.csv'"
   ],
   "metadata": {
    "collapsed": false
   }
  },
  {
   "cell_type": "markdown",
   "source": [
    "## 2.1 Multiple leagues:\n",
    "### https://www.football-data.co.uk/mmz4281/2223/E0.csv\n",
    "### https://www.football-data.co.uk/mmz4281/2223/E1.csv\n",
    "### https://www.football-data.co.uk/mmz4281/2223/E2.csv\n",
    "### https://www.football-data.co.uk/mmz4281/2223/E3.csv\n",
    "### https://www.football-data.co.uk/mmz4281/2223/EC.csv"
   ],
   "metadata": {
    "collapsed": false
   }
  },
  {
   "cell_type": "code",
   "execution_count": 48,
   "outputs": [],
   "source": [
    "# Root - assign it to variable\n",
    "root = 'https://www.football-data.co.uk/mmz4281/'"
   ],
   "metadata": {
    "collapsed": false
   }
  },
  {
   "cell_type": "code",
   "execution_count": 49,
   "outputs": [],
   "source": [
    "# Season - current season 2022/2023\n",
    "season = '2223'"
   ],
   "metadata": {
    "collapsed": false
   }
  },
  {
   "cell_type": "code",
   "execution_count": 54,
   "outputs": [],
   "source": [
    "# All leagues as a list of strings\n",
    "leagues = ['E0', 'E1', 'E2', 'E3', 'EC']\n",
    "frames = []\n",
    "\n",
    "# Iterate through all leagues:\n",
    "for every_league in leagues:\n",
    "    df = pd.read_csv(root + season + '/' + every_league + '.csv')\n",
    "    frames.append(df)"
   ],
   "metadata": {
    "collapsed": false
   }
  },
  {
   "cell_type": "code",
   "execution_count": 55,
   "outputs": [
    {
     "data": {
      "text/plain": "[    Div        Date   Time        HomeTeam       AwayTeam  FTHG  FTAG FTR   \n 0    E0  05/08/2022  20:00  Crystal Palace        Arsenal     0     2   A  \\\n 1    E0  06/08/2022  12:30          Fulham      Liverpool     2     2   D   \n 2    E0  06/08/2022  15:00     Bournemouth    Aston Villa     2     0   H   \n 3    E0  06/08/2022  15:00           Leeds         Wolves     2     1   H   \n 4    E0  06/08/2022  15:00       Newcastle  Nott'm Forest     2     0   H   \n ..   ..         ...    ...             ...            ...   ...   ...  ..   \n 301  E0  15/04/2023  15:00          Wolves      Brentford     2     0   H   \n 302  E0  15/04/2023  17:30        Man City      Leicester     3     1   H   \n 303  E0  16/04/2023  14:00        West Ham        Arsenal     2     2   D   \n 304  E0  16/04/2023  16:30   Nott'm Forest     Man United     0     2   A   \n 305  E0  17/04/2023  20:00           Leeds      Liverpool     1     6   A   \n \n      HTHG  HTAG  ... AvgC<2.5  AHCh  B365CAHH  B365CAHA  PCAHH  PCAHA   \n 0       0     1  ...     1.76  0.50      2.09      1.84   2.04   1.88  \\\n 1       1     0  ...     2.73  1.75      1.90      2.03   1.91   2.02   \n 2       1     0  ...     1.76  0.50      1.93      2.00   1.93   2.00   \n 3       1     1  ...     1.87 -0.25      2.08      1.85   2.10   1.84   \n 4       0     0  ...     1.89 -1.00      1.97      1.96   1.99   1.93   \n ..    ...   ...  ...      ...   ...       ...       ...    ...    ...   \n 301     1     0  ...     1.66  0.00      2.00      1.90   2.02   1.91   \n 302     3     0  ...     3.19 -2.25      1.92      1.98   1.94   1.96   \n 303     1     2  ...     2.12  1.00      1.89      2.04   1.88   2.05   \n 304     0     1  ...     2.12  0.75      2.02      1.91   2.02   1.91   \n 305     0     2  ...     2.61  0.75      2.01      1.89   2.01   1.92   \n \n      MaxCAHH  MaxCAHA  AvgCAHH  AvgCAHA  \n 0       2.09     1.88     2.03     1.85  \n 1       2.01     2.06     1.89     1.99  \n 2       1.94     2.04     1.88     2.00  \n 3       2.14     1.87     2.08     1.81  \n 4       2.19     1.97     2.03     1.86  \n ..       ...      ...      ...      ...  \n 301     2.04     1.95     1.97     1.89  \n 302     1.95     2.08     1.86     2.00  \n 303     1.97     2.11     1.85     2.03  \n 304     2.09     1.92     1.99     1.88  \n 305     2.12     1.94     2.00     1.86  \n \n [306 rows x 106 columns],\n     Div        Date   Time      HomeTeam      AwayTeam  FTHG  FTAG FTR  HTHG   \n 0    E1  29/07/2022  20:00  Huddersfield       Burnley     0     1   A     0  \\\n 1    E1  30/07/2022  15:00     Blackburn           QPR     1     0   H     1   \n 2    E1  30/07/2022  15:00     Blackpool       Reading     1     0   H     1   \n 3    E1  30/07/2022  15:00       Cardiff       Norwich     1     0   H     0   \n 4    E1  30/07/2022  15:00          Hull  Bristol City     2     1   H     0   \n ..   ..         ...    ...           ...           ...   ...   ...  ..   ...   \n 496  E1  15/04/2023  15:00         Stoke     West Brom     1     2   A     1   \n 497  E1  15/04/2023  15:00    Sunderland    Birmingham     2     1   H     1   \n 498  E1  15/04/2023  15:00       Swansea  Huddersfield     1     0   H     0   \n 499  E1  15/04/2023  15:00       Watford  Bristol City     2     0   H     1   \n 500  E1  15/04/2023  19:45     Blackburn          Hull     0     0   D     0   \n \n      HTAG  ... AvgC<2.5  AHCh  B365CAHH  B365CAHA  PCAHH  PCAHA  MaxCAHH   \n 0       1  ...     1.63  0.00      2.09      1.81   2.10   1.82     2.14  \\\n 1       0  ...     1.86 -0.50      1.99      1.91   2.01   1.90     2.01   \n 2       0  ...     1.82 -0.50      2.08      1.82   2.06   1.86     2.11   \n 3       0  ...     1.71  0.25      2.01      1.89   2.00   1.90     2.03   \n 4       1  ...     1.73 -0.25      2.10      1.70   2.12   1.81     2.17   \n ..    ...  ...      ...   ...       ...       ...    ...    ...      ...   \n 496     0  ...     1.70 -0.25      1.91      1.99   1.91   2.00     1.93   \n 497     1  ...     1.79 -0.75      2.05      1.75   2.13   1.79     2.13   \n 498     0  ...     1.91 -1.00      2.00      1.90   2.01   1.89     2.09   \n 499     0  ...     1.77 -0.50      2.02      1.88   2.05   1.87     2.05   \n 500     0  ...     1.89 -0.75      1.82      2.08   1.85   2.07     1.90   \n \n      MaxCAHA  AvgCAHH  AvgCAHA  \n 0       1.83     2.09     1.78  \n 1       1.95     1.97     1.88  \n 2       1.86     2.04     1.82  \n 3       2.00     1.95     1.89  \n 4       1.81     2.09     1.77  \n ..       ...      ...      ...  \n 496     2.00     1.87     1.96  \n 497     1.93     2.01     1.82  \n 498     1.93     2.01     1.83  \n 499     1.91     1.98     1.84  \n 500     2.09     1.83     2.00  \n \n [501 rows x 106 columns],\n     Div        Date   Time            HomeTeam            AwayTeam  FTHG   \n 0    E2  30/07/2022  15:00          Accrington            Charlton     2  \\\n 1    E2  30/07/2022  15:00         Bristol Rvs        Forest Green     1   \n 2    E2  30/07/2022  15:00           Cambridge  Milton Keynes Dons     1   \n 3    E2  30/07/2022  15:00          Cheltenham           Peterboro     2   \n 4    E2  30/07/2022  15:00               Derby              Oxford     1   \n ..   ..         ...    ...                 ...                 ...   ...   \n 493  E2  15/04/2023  15:00             Lincoln           Port Vale     3   \n 494  E2  15/04/2023  15:00  Milton Keynes Dons          Cheltenham     2   \n 495  E2  15/04/2023  15:00           Morecambe             Wycombe     1   \n 496  E2  15/04/2023  15:00              Oxford              Bolton     0   \n 497  E2  15/04/2023  15:00          Shrewsbury          Portsmouth     1   \n \n      FTAG FTR  HTHG  HTAG  ... AvgC<2.5  AHCh  B365CAHH  B365CAHA  PCAHH   \n 0       2   D     0     1  ...     1.92  0.00      2.05      1.75   2.08  \\\n 1       2   A     0     0  ...     1.75 -0.25      2.10      1.77   2.09   \n 2       0   H     1     0  ...     1.61  0.25      1.70      2.10   1.76   \n 3       3   A     2     0  ...     2.04  0.25      1.93      1.93   1.98   \n 4       0   H     0     0  ...     1.81 -0.25      1.75      2.05   1.79   \n ..    ...  ..   ...   ...  ...      ...   ...       ...       ...    ...   \n 493     2   H     2     2  ...     1.54  0.00      1.83      2.02   1.85   \n 494     2   D     1     1  ...     1.55 -0.25      1.88      1.98   1.94   \n 495     0   H     0     0  ...     1.84  0.50      2.00      1.85   2.04   \n 496     1   A     0     1  ...     1.73 -0.25      2.00      1.85   2.04   \n 497     1   D     0     0  ...     1.57  0.25      1.88      1.98   1.88   \n \n      PCAHA  MaxCAHH  MaxCAHA  AvgCAHH  AvgCAHA  \n 0     1.83     2.16     1.83     2.06     1.77  \n 1     1.82     2.13     1.82     2.07     1.76  \n 2     2.14     1.86     2.14     1.78     2.05  \n 3     1.90     1.98     1.99     1.89     1.92  \n 4     2.10     1.86     2.14     1.79     2.03  \n ..     ...      ...      ...      ...      ...  \n 493   2.05     1.88     2.09     1.82     1.98  \n 494   1.94     1.98     2.02     1.92     1.88  \n 495   1.85     2.05     1.91     1.95     1.85  \n 496   1.85     2.06     1.91     2.00     1.81  \n 497   2.00     1.92     2.04     1.82     1.98  \n \n [498 rows x 106 columns],\n     Div        Date   Time       HomeTeam       AwayTeam  FTHG  FTAG FTR   \n 0    E3  30/07/2022  15:00  AFC Wimbledon     Gillingham     2     0   H  \\\n 1    E3  30/07/2022  15:00       Bradford      Doncaster     0     0   D   \n 2    E3  30/07/2022  15:00       Carlisle   Crawley Town     1     0   H   \n 3    E3  30/07/2022  15:00      Harrogate        Swindon     3     0   H   \n 4    E3  30/07/2022  15:00  Leyton Orient        Grimsby     2     0   H   \n ..   ..         ...    ...            ...            ...   ...   ...  ..   \n 495  E3  15/04/2023  15:00       Rochdale       Bradford     0     3   A   \n 496  E3  15/04/2023  15:00        Salford     Colchester     0     1   A   \n 497  E3  15/04/2023  15:00      Stevenage  AFC Wimbledon     2     1   H   \n 498  E3  15/04/2023  15:00         Sutton  Leyton Orient     0     2   A   \n 499  E3  15/04/2023  15:00        Swindon         Barrow     0     0   D   \n \n      HTHG  HTAG  ... AvgC<2.5  AHCh  B365CAHH  B365CAHA  PCAHH  PCAHA   \n 0       1     0  ...     1.48 -0.25      2.05      1.80   2.09   1.81  \\\n 1       0     0  ...     1.94 -0.75      1.90      1.95   1.90   1.99   \n 2       1     0  ...     1.77  0.00      1.80      2.05   1.88   2.02   \n 3       1     0  ...     2.11  0.25      1.77      2.10   1.77   2.14   \n 4       0     0  ...     1.66 -0.25      1.80      2.05   1.79   2.10   \n ..    ...   ...  ...      ...   ...       ...       ...    ...    ...   \n 495     0     1  ...     1.77  0.50      1.90      1.95   1.93   1.96   \n 496     0     1  ...     1.80 -0.50      1.85      2.00   1.91   1.98   \n 497     1     1  ...     1.69 -1.00      1.93      1.93   1.96   1.93   \n 498     0     2  ...     1.50  0.25      1.80      2.05   1.81   2.10   \n 499     0     0  ...     1.65  0.00      1.68      2.25   1.73   2.20   \n \n      MaxCAHH  MaxCAHA  AvgCAHH  AvgCAHA  \n 0       2.13     1.81     2.06     1.76  \n 1       1.96     1.99     1.90     1.91  \n 2       1.88     2.11     1.79     2.03  \n 3       1.84     2.14     1.76     2.06  \n 4       1.86     2.10     1.80     2.02  \n ..       ...      ...      ...      ...  \n 495     1.93     2.04     1.83     1.96  \n 496     1.95     2.00     1.84     1.94  \n 497     2.04     1.95     1.96     1.83  \n 498     1.83     2.14     1.76     2.04  \n 499     1.95     2.25     1.75     2.05  \n \n [500 rows x 106 columns],\n     Div        Date   Time      HomeTeam      AwayTeam  FTHG  FTAG FTR  HTHG   \n 0    EC  06/08/2022  15:00     Aldershot      Solihull     1     4   A     1  \\\n 1    EC  06/08/2022  15:00    Altrincham     Maidstone     1     1   D     1   \n 2    EC  06/08/2022  15:00        Barnet       Halifax     2     0   H     1   \n 3    EC  06/08/2022  15:00   Dag and Red     Gateshead     2     2   D     1   \n 4    EC  06/08/2022  15:00       Dorking  Chesterfield     2     2   D     0   \n ..   ..         ...    ...           ...           ...   ...   ...  ..   ...   \n 512  EC  15/04/2023  15:00        Oldham    Maidenhead     1     0   H     1   \n 513  EC  15/04/2023  15:00      Solihull        Yeovil     2     2   D     2   \n 514  EC  15/04/2023  15:00      Southend   Dag and Red     2     0   H     0   \n 515  EC  15/04/2023  15:00       Torquay          York     3     2   H     2   \n 516  EC  15/04/2023  17:30  Notts County        Woking     3     0   H     0   \n \n      HTAG  ... AvgC<2.5  AHCh  B365CAHH  B365CAHA  PCAHH  PCAHA  MaxCAHH   \n 0       2  ...     2.03  0.75      1.93      1.88   1.93   1.92     1.94  \\\n 1       1  ...     2.00 -0.25      1.93      1.88   1.94   1.91     1.96   \n 2       0  ...     2.07  0.25      1.85      1.95   1.86   1.99     1.88   \n 3       2  ...     2.10 -0.50      1.88      1.93   1.93   1.93     1.93   \n 4       2  ...     2.25  0.25      1.95      1.85   1.95   1.89     2.01   \n ..    ...  ...      ...   ...       ...       ...    ...    ...      ...   \n 512     0  ...     1.64 -0.25      1.77      2.02   1.78   2.09     1.81   \n 513     0  ...     1.75 -0.50      1.95      1.85   1.94   1.91     2.02   \n 514     0  ...     1.88 -0.75      1.75      2.05   1.82   2.05     1.83   \n 515     1  ...     1.72 -0.25      1.77      2.02   1.83   2.03     1.93   \n 516     0  ...     2.26 -1.25      1.73      2.08   1.79   2.07     1.97   \n \n      MaxCAHA  AvgCAHH  AvgCAHA  \n 0       1.98     1.89     1.88  \n 1       1.92     1.91     1.87  \n 2       2.00     1.84     1.92  \n 3       2.02     1.85     1.92  \n 4       1.89     1.92     1.85  \n ..       ...      ...      ...  \n 512     2.09     1.76     2.01  \n 513     1.97     1.85     1.91  \n 514     2.05     1.77     1.98  \n 515     2.13     1.81     1.96  \n 516     2.08     1.82     1.95  \n \n [517 rows x 98 columns]]"
     },
     "execution_count": 55,
     "metadata": {},
     "output_type": "execute_result"
    }
   ],
   "source": [
    "frames\n"
   ],
   "metadata": {
    "collapsed": false
   }
  },
  {
   "cell_type": "code",
   "execution_count": 51,
   "outputs": [],
   "source": [],
   "metadata": {
    "collapsed": false
   }
  }
 ],
 "metadata": {
  "kernelspec": {
   "display_name": "Python 3",
   "language": "python",
   "name": "python3"
  },
  "language_info": {
   "codemirror_mode": {
    "name": "ipython",
    "version": 2
   },
   "file_extension": ".py",
   "mimetype": "text/x-python",
   "name": "python",
   "nbconvert_exporter": "python",
   "pygments_lexer": "ipython2",
   "version": "2.7.6"
  }
 },
 "nbformat": 4,
 "nbformat_minor": 0
}
